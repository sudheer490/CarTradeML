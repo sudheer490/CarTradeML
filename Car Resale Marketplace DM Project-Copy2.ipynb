{
 "cells": [
  {
   "cell_type": "markdown",
   "id": "bceb63da",
   "metadata": {},
   "source": [
    "# Car Resale Marketplace Data Mining Project\n",
    "#### Project Advisor: Prof. Arindam Ray\n",
    "#### Team Name: Beta Busters\n",
    "#### Team Members: \n",
    "1. Amolika Godse \n",
    "2. Anuraag Gujje \n",
    "3. Ganesh Talluri \n",
    "4. Sai Sudheer Vishnumolakala \n",
    "5. Suraj Shiva Kumar\n"
   ]
  },
  {
   "cell_type": "markdown",
   "id": "43879c18",
   "metadata": {},
   "source": [
    "### Problem Statement\n",
    "\n",
    "We propose a data mining project to create a car resale marketplace that enables users to sell and buy resale cars. The key objectives of this project are as follows:\n",
    "\n",
    "1. Predict the resale price of cars based on their features, helping sellers set competitive prices.\n",
    "\n",
    "2. Recommend similar cars to potential buyers based on their preferences.\n"
   ]
  },
  {
   "cell_type": "markdown",
   "id": "0546ad35",
   "metadata": {},
   "source": [
    "### A) Import Libraries"
   ]
  },
  {
   "cell_type": "code",
   "execution_count": 1,
   "id": "91b69912",
   "metadata": {},
   "outputs": [],
   "source": [
    "import pandas as pd\n",
    "import numpy as np\n",
    "import matplotlib.pyplot as plt\n",
    "import seaborn as sns\n",
    "import pickle\n",
    "from sklearn.model_selection import train_test_split, RandomizedSearchCV\n",
    "from sklearn.compose import ColumnTransformer\n",
    "from sklearn.preprocessing import StandardScaler, OrdinalEncoder, OneHotEncoder\n",
    "from sklearn.pipeline import Pipeline\n",
    "from sklearn.linear_model import LinearRegression\n",
    "from sklearn.ensemble import RandomForestRegressor, GradientBoostingRegressor, VotingRegressor, StackingRegressor\n",
    "from sklearn.neural_network import MLPRegressor\n",
    "from sklearn.feature_selection import RFECV\n",
    "from sklearn.metrics import mean_squared_error, r2_score, make_scorer\n",
    "\n",
    "import warnings\n",
    "warnings.filterwarnings('ignore')"
   ]
  },
  {
   "cell_type": "markdown",
   "id": "21e83be0",
   "metadata": {},
   "source": [
    "### B) Data Loading & Checks"
   ]
  },
  {
   "cell_type": "code",
   "execution_count": 2,
   "id": "4f102783",
   "metadata": {},
   "outputs": [],
   "source": [
    "df = pd.read_excel('data/master_data.xlsx')"
   ]
  },
  {
   "cell_type": "code",
   "execution_count": 3,
   "id": "09b3cdc1",
   "metadata": {},
   "outputs": [
    {
     "data": {
      "text/html": [
       "<div>\n",
       "<style scoped>\n",
       "    .dataframe tbody tr th:only-of-type {\n",
       "        vertical-align: middle;\n",
       "    }\n",
       "\n",
       "    .dataframe tbody tr th {\n",
       "        vertical-align: top;\n",
       "    }\n",
       "\n",
       "    .dataframe thead th {\n",
       "        text-align: right;\n",
       "    }\n",
       "</style>\n",
       "<table border=\"1\" class=\"dataframe\">\n",
       "  <thead>\n",
       "    <tr style=\"text-align: right;\">\n",
       "      <th></th>\n",
       "      <th>price</th>\n",
       "      <th>type</th>\n",
       "      <th>make</th>\n",
       "      <th>year</th>\n",
       "      <th>model</th>\n",
       "      <th>mileage_miles</th>\n",
       "      <th>Exterior Color</th>\n",
       "      <th>Interior Color</th>\n",
       "      <th>Body Style</th>\n",
       "      <th>Doors</th>\n",
       "      <th>...</th>\n",
       "      <th>Lane Assist</th>\n",
       "      <th>Parking Assist System</th>\n",
       "      <th>Stability Control</th>\n",
       "      <th>Adaptive Cruise Control</th>\n",
       "      <th>Alloy Wheels</th>\n",
       "      <th>Cooled Seats</th>\n",
       "      <th>Full Self-Driving Capability</th>\n",
       "      <th>Third Row Seating</th>\n",
       "      <th>Tow Hitch / Package</th>\n",
       "      <th>Rear Seat Entertainment</th>\n",
       "    </tr>\n",
       "  </thead>\n",
       "  <tbody>\n",
       "    <tr>\n",
       "      <th>0</th>\n",
       "      <td>32589</td>\n",
       "      <td>sedan</td>\n",
       "      <td>subaru</td>\n",
       "      <td>2022.0</td>\n",
       "      <td>wrx</td>\n",
       "      <td>14172.0</td>\n",
       "      <td>White</td>\n",
       "      <td>Black</td>\n",
       "      <td>Sedan</td>\n",
       "      <td>4 Doors</td>\n",
       "      <td>...</td>\n",
       "      <td>NaN</td>\n",
       "      <td>NaN</td>\n",
       "      <td>NaN</td>\n",
       "      <td>NaN</td>\n",
       "      <td>NaN</td>\n",
       "      <td>NaN</td>\n",
       "      <td>NaN</td>\n",
       "      <td>NaN</td>\n",
       "      <td>NaN</td>\n",
       "      <td>NaN</td>\n",
       "    </tr>\n",
       "    <tr>\n",
       "      <th>1</th>\n",
       "      <td>32589</td>\n",
       "      <td>sedan</td>\n",
       "      <td>audi</td>\n",
       "      <td>2022.0</td>\n",
       "      <td>a3</td>\n",
       "      <td>7729.0</td>\n",
       "      <td>Silver</td>\n",
       "      <td>Black</td>\n",
       "      <td>Sedan</td>\n",
       "      <td>4 Doors</td>\n",
       "      <td>...</td>\n",
       "      <td>NaN</td>\n",
       "      <td>NaN</td>\n",
       "      <td>NaN</td>\n",
       "      <td>NaN</td>\n",
       "      <td>NaN</td>\n",
       "      <td>NaN</td>\n",
       "      <td>NaN</td>\n",
       "      <td>NaN</td>\n",
       "      <td>NaN</td>\n",
       "      <td>NaN</td>\n",
       "    </tr>\n",
       "    <tr>\n",
       "      <th>2</th>\n",
       "      <td>48589</td>\n",
       "      <td>sedan</td>\n",
       "      <td>bmw</td>\n",
       "      <td>2023.0</td>\n",
       "      <td>5 series</td>\n",
       "      <td>25001.0</td>\n",
       "      <td>Blue</td>\n",
       "      <td>Brown</td>\n",
       "      <td>Sedan</td>\n",
       "      <td>4 Doors</td>\n",
       "      <td>...</td>\n",
       "      <td>NaN</td>\n",
       "      <td>NaN</td>\n",
       "      <td>NaN</td>\n",
       "      <td>NaN</td>\n",
       "      <td>NaN</td>\n",
       "      <td>NaN</td>\n",
       "      <td>NaN</td>\n",
       "      <td>NaN</td>\n",
       "      <td>NaN</td>\n",
       "      <td>NaN</td>\n",
       "    </tr>\n",
       "    <tr>\n",
       "      <th>3</th>\n",
       "      <td>24589</td>\n",
       "      <td>sedan</td>\n",
       "      <td>hyundai</td>\n",
       "      <td>2023.0</td>\n",
       "      <td>elantra</td>\n",
       "      <td>8677.0</td>\n",
       "      <td>Red</td>\n",
       "      <td>Gray</td>\n",
       "      <td>Sedan</td>\n",
       "      <td>4 Doors</td>\n",
       "      <td>...</td>\n",
       "      <td>1.0</td>\n",
       "      <td>NaN</td>\n",
       "      <td>NaN</td>\n",
       "      <td>NaN</td>\n",
       "      <td>NaN</td>\n",
       "      <td>NaN</td>\n",
       "      <td>NaN</td>\n",
       "      <td>NaN</td>\n",
       "      <td>NaN</td>\n",
       "      <td>NaN</td>\n",
       "    </tr>\n",
       "    <tr>\n",
       "      <th>4</th>\n",
       "      <td>23999</td>\n",
       "      <td>sedan</td>\n",
       "      <td>hyundai</td>\n",
       "      <td>2023.0</td>\n",
       "      <td>elantra</td>\n",
       "      <td>16506.0</td>\n",
       "      <td>Blue</td>\n",
       "      <td>Black</td>\n",
       "      <td>Sedan</td>\n",
       "      <td>4 Doors</td>\n",
       "      <td>...</td>\n",
       "      <td>1.0</td>\n",
       "      <td>NaN</td>\n",
       "      <td>NaN</td>\n",
       "      <td>NaN</td>\n",
       "      <td>NaN</td>\n",
       "      <td>NaN</td>\n",
       "      <td>NaN</td>\n",
       "      <td>NaN</td>\n",
       "      <td>NaN</td>\n",
       "      <td>NaN</td>\n",
       "    </tr>\n",
       "  </tbody>\n",
       "</table>\n",
       "<p>5 rows × 50 columns</p>\n",
       "</div>"
      ],
      "text/plain": [
       "   price   type     make    year     model  mileage_miles Exterior Color  \\\n",
       "0  32589  sedan   subaru  2022.0       wrx        14172.0          White   \n",
       "1  32589  sedan     audi  2022.0        a3         7729.0         Silver   \n",
       "2  48589  sedan      bmw  2023.0  5 series        25001.0           Blue   \n",
       "3  24589  sedan  hyundai  2023.0   elantra         8677.0            Red   \n",
       "4  23999  sedan  hyundai  2023.0   elantra        16506.0           Blue   \n",
       "\n",
       "  Interior Color Body Style    Doors  ... Lane Assist Parking Assist System  \\\n",
       "0          Black      Sedan  4 Doors  ...         NaN                   NaN   \n",
       "1          Black      Sedan  4 Doors  ...         NaN                   NaN   \n",
       "2          Brown      Sedan  4 Doors  ...         NaN                   NaN   \n",
       "3           Gray      Sedan  4 Doors  ...         1.0                   NaN   \n",
       "4          Black      Sedan  4 Doors  ...         1.0                   NaN   \n",
       "\n",
       "  Stability Control Adaptive Cruise Control Alloy Wheels Cooled Seats  \\\n",
       "0               NaN                     NaN          NaN          NaN   \n",
       "1               NaN                     NaN          NaN          NaN   \n",
       "2               NaN                     NaN          NaN          NaN   \n",
       "3               NaN                     NaN          NaN          NaN   \n",
       "4               NaN                     NaN          NaN          NaN   \n",
       "\n",
       "  Full Self-Driving Capability Third Row Seating Tow Hitch / Package  \\\n",
       "0                          NaN               NaN                 NaN   \n",
       "1                          NaN               NaN                 NaN   \n",
       "2                          NaN               NaN                 NaN   \n",
       "3                          NaN               NaN                 NaN   \n",
       "4                          NaN               NaN                 NaN   \n",
       "\n",
       "   Rear Seat Entertainment  \n",
       "0                      NaN  \n",
       "1                      NaN  \n",
       "2                      NaN  \n",
       "3                      NaN  \n",
       "4                      NaN  \n",
       "\n",
       "[5 rows x 50 columns]"
      ]
     },
     "execution_count": 3,
     "metadata": {},
     "output_type": "execute_result"
    }
   ],
   "source": [
    "df.head()"
   ]
  },
  {
   "cell_type": "code",
   "execution_count": 4,
   "id": "94a10ccb",
   "metadata": {},
   "outputs": [
    {
     "data": {
      "text/plain": [
       "(2897, 50)"
      ]
     },
     "execution_count": 4,
     "metadata": {},
     "output_type": "execute_result"
    }
   ],
   "source": [
    "df.shape"
   ]
  },
  {
   "cell_type": "markdown",
   "id": "b017f0b2",
   "metadata": {},
   "source": [
    "### C) Data Cleaning"
   ]
  },
  {
   "cell_type": "code",
   "execution_count": 5,
   "id": "80a9e11d",
   "metadata": {},
   "outputs": [],
   "source": [
    "df.columns = [col.lower().replace(' / ','_').replace(' ', '_').strip() for col in df.columns]"
   ]
  },
  {
   "cell_type": "code",
   "execution_count": 6,
   "id": "1e741855",
   "metadata": {},
   "outputs": [
    {
     "data": {
      "text/plain": [
       "Index(['price', 'type', 'make', 'year', 'model', 'mileage_miles',\n",
       "       'exterior_color', 'interior_color', 'body_style', 'doors', 'mpg', 'vin',\n",
       "       'engine', 'transmission', 'drive_type', 'fuel', 'tank_size',\n",
       "       'bed_style', 'cab_style', 'android_auto', 'apple_carplay',\n",
       "       'backup_camera_assist', 'bluetooth', 'heated_seats',\n",
       "       'hill_assist_system', 'keyless_entry', 'keyless_ignition',\n",
       "       'multimedia_telematics', 'premium_sound_system', 'satellite_radio',\n",
       "       'sunroof_moonroof', 'leather_seats', 'power_seats', 'traction_control',\n",
       "       'driver_assistance_confidence_pkg', 'head-up_display',\n",
       "       'lane_departure_warning', 'navigation_system', 'remote_start',\n",
       "       'blind_spot_monitor', 'lane_assist', 'parking_assist_system',\n",
       "       'stability_control', 'adaptive_cruise_control', 'alloy_wheels',\n",
       "       'cooled_seats', 'full_self-driving_capability', 'third_row_seating',\n",
       "       'tow_hitch_package', 'rear_seat_entertainment'],\n",
       "      dtype='object')"
      ]
     },
     "execution_count": 6,
     "metadata": {},
     "output_type": "execute_result"
    }
   ],
   "source": [
    "df.columns"
   ]
  },
  {
   "cell_type": "code",
   "execution_count": 7,
   "id": "6334635e",
   "metadata": {},
   "outputs": [
    {
     "data": {
      "text/plain": [
       "9"
      ]
     },
     "execution_count": 7,
     "metadata": {},
     "output_type": "execute_result"
    }
   ],
   "source": [
    "# Check Duplicates\n",
    "df.duplicated().sum()"
   ]
  },
  {
   "cell_type": "code",
   "execution_count": 8,
   "id": "0327622b",
   "metadata": {},
   "outputs": [
    {
     "data": {
      "text/plain": [
       "(2888, 50)"
      ]
     },
     "execution_count": 8,
     "metadata": {},
     "output_type": "execute_result"
    }
   ],
   "source": [
    "# Remove Duplicates\n",
    "df = df.drop_duplicates()\n",
    "df.shape"
   ]
  },
  {
   "cell_type": "code",
   "execution_count": 9,
   "id": "36da8587",
   "metadata": {},
   "outputs": [],
   "source": [
    "# Convert the entire DataFrame to lowercase\n",
    "df = df.applymap(lambda x: x.lower() if isinstance(x, str) else x)"
   ]
  },
  {
   "cell_type": "code",
   "execution_count": 10,
   "id": "214e49e7",
   "metadata": {},
   "outputs": [
    {
     "data": {
      "text/plain": [
       "price                                  0\n",
       "type                                   0\n",
       "make                                   1\n",
       "year                                   1\n",
       "model                                  1\n",
       "mileage_miles                          1\n",
       "exterior_color                         4\n",
       "interior_color                        16\n",
       "body_style                             1\n",
       "doors                                  1\n",
       "mpg                                    1\n",
       "vin                                    1\n",
       "engine                                 1\n",
       "transmission                           1\n",
       "drive_type                             1\n",
       "fuel                                   1\n",
       "tank_size                           1962\n",
       "bed_style                           2644\n",
       "cab_style                           2534\n",
       "android_auto                        1536\n",
       "apple_carplay                       1471\n",
       "backup_camera_assist                  71\n",
       "bluetooth                           1058\n",
       "heated_seats                        1208\n",
       "hill_assist_system                  1757\n",
       "keyless_entry                       1281\n",
       "keyless_ignition                    1082\n",
       "multimedia_telematics               1073\n",
       "premium_sound_system                2401\n",
       "satellite_radio                     2344\n",
       "sunroof_moonroof                    2107\n",
       "leather_seats                       2190\n",
       "power_seats                         1834\n",
       "traction_control                    1796\n",
       "driver_assistance_confidence_pkg    2335\n",
       "head-up_display                     2744\n",
       "lane_departure_warning              1777\n",
       "navigation_system                   1802\n",
       "remote_start                        2461\n",
       "blind_spot_monitor                  1725\n",
       "lane_assist                         2024\n",
       "parking_assist_system               2446\n",
       "stability_control                   2136\n",
       "adaptive_cruise_control             2017\n",
       "alloy_wheels                        2740\n",
       "cooled_seats                        2837\n",
       "full_self-driving_capability        2887\n",
       "third_row_seating                   2742\n",
       "tow_hitch_package                   2696\n",
       "rear_seat_entertainment             2875\n",
       "dtype: int64"
      ]
     },
     "execution_count": 10,
     "metadata": {},
     "output_type": "execute_result"
    }
   ],
   "source": [
    "# check Missing value\n",
    "df.isnull().sum()"
   ]
  },
  {
   "cell_type": "code",
   "execution_count": 11,
   "id": "93090170",
   "metadata": {
    "scrolled": true
   },
   "outputs": [
    {
     "name": "stdout",
     "output_type": "stream",
     "text": [
      "Unique values in type: ['sedan' 'supuv' 'wagon' 'coupe' 'minivan' 'pickups' 'hatchback'\n",
      " 'convertible']\n",
      "Unique values in body_style: ['sedan' 'suv' 'wagon' 'coupe' 'minivan' 'pickup' nan 'hatchback'\n",
      " 'convertible']\n"
     ]
    }
   ],
   "source": [
    "# Checking type and bodystyle columns\n",
    "print(f\"Unique values in type: {df['type'].unique()}\")\n",
    "print(f\"Unique values in body_style: {df['body_style'].unique()}\")"
   ]
  },
  {
   "cell_type": "code",
   "execution_count": 12,
   "id": "3d2cd69f",
   "metadata": {},
   "outputs": [],
   "source": [
    "# Dropping this column as this is similar to type column\n",
    "df = df.drop('body_style',axis=1)"
   ]
  },
  {
   "cell_type": "code",
   "execution_count": 13,
   "id": "4ab8cf8c",
   "metadata": {},
   "outputs": [],
   "source": [
    "df = df.dropna(subset=['make'])"
   ]
  },
  {
   "cell_type": "code",
   "execution_count": 14,
   "id": "e57f8215",
   "metadata": {},
   "outputs": [],
   "source": [
    "df = df.drop('android_auto',axis=1)"
   ]
  },
  {
   "cell_type": "code",
   "execution_count": 15,
   "id": "6dbbf235",
   "metadata": {},
   "outputs": [],
   "source": [
    "df = df.drop(columns=['exterior_color', 'interior_color', 'tank_size', 'bed_style', 'cab_style', 'vin'],axis=1)"
   ]
  },
  {
   "cell_type": "code",
   "execution_count": 16,
   "id": "030059d7",
   "metadata": {},
   "outputs": [],
   "source": [
    "# Split the \"mpg\" column and extract city_mpg and hwy_mpg\n",
    "df[['city_mpg', 'hwy_mpg']] = df['mpg'].str.split(' / ', expand=True)\n",
    "\n",
    "# Convert the new columns to integers\n",
    "df['city_mpg'] = df['city_mpg'].str.extract('(\\d+)').astype(float).fillna(0).astype(int)\n",
    "df['hwy_mpg'] = df['hwy_mpg'].str.extract('(\\d+)').astype(float).fillna(0).astype(int)\n",
    "\n",
    "df = df.drop(columns=['mpg'])"
   ]
  },
  {
   "cell_type": "code",
   "execution_count": 17,
   "id": "560aa41d",
   "metadata": {},
   "outputs": [
    {
     "data": {
      "text/html": [
       "<div>\n",
       "<style scoped>\n",
       "    .dataframe tbody tr th:only-of-type {\n",
       "        vertical-align: middle;\n",
       "    }\n",
       "\n",
       "    .dataframe tbody tr th {\n",
       "        vertical-align: top;\n",
       "    }\n",
       "\n",
       "    .dataframe thead th {\n",
       "        text-align: right;\n",
       "    }\n",
       "</style>\n",
       "<table border=\"1\" class=\"dataframe\">\n",
       "  <thead>\n",
       "    <tr style=\"text-align: right;\">\n",
       "      <th></th>\n",
       "      <th>city_mpg</th>\n",
       "      <th>hwy_mpg</th>\n",
       "    </tr>\n",
       "  </thead>\n",
       "  <tbody>\n",
       "    <tr>\n",
       "      <th>city_mpg</th>\n",
       "      <td>1.000000</td>\n",
       "      <td>0.936509</td>\n",
       "    </tr>\n",
       "    <tr>\n",
       "      <th>hwy_mpg</th>\n",
       "      <td>0.936509</td>\n",
       "      <td>1.000000</td>\n",
       "    </tr>\n",
       "  </tbody>\n",
       "</table>\n",
       "</div>"
      ],
      "text/plain": [
       "          city_mpg   hwy_mpg\n",
       "city_mpg  1.000000  0.936509\n",
       "hwy_mpg   0.936509  1.000000"
      ]
     },
     "execution_count": 17,
     "metadata": {},
     "output_type": "execute_result"
    }
   ],
   "source": [
    "df[['city_mpg','hwy_mpg']].corr()"
   ]
  },
  {
   "cell_type": "code",
   "execution_count": 18,
   "id": "8abb80a0",
   "metadata": {},
   "outputs": [
    {
     "data": {
      "text/plain": [
       "<matplotlib.collections.PathCollection at 0x1d7dcbd1990>"
      ]
     },
     "execution_count": 18,
     "metadata": {},
     "output_type": "execute_result"
    },
    {
     "data": {
      "image/png": "[encoded data removed]",
      "text/plain": [
       "<Figure size 640x480 with 1 Axes>"
      ]
     },
     "metadata": {},
     "output_type": "display_data"
    }
   ],
   "source": [
    "plt.scatter(df['city_mpg'],df['hwy_mpg'])"
   ]
  },
  {
   "cell_type": "code",
   "execution_count": 19,
   "id": "e13ba37e",
   "metadata": {},
   "outputs": [],
   "source": [
    "df['avg_mpg'] = (df['city_mpg'] + df['hwy_mpg'])/2\n",
    "\n",
    "df = df.drop(columns=['city_mpg','hwy_mpg'])"
   ]
  },
  {
   "cell_type": "code",
   "execution_count": 20,
   "id": "df4ab7a3",
   "metadata": {},
   "outputs": [
    {
     "data": {
      "text/plain": [
       "doors\n",
       "4    2645\n",
       "2     239\n",
       "3       3\n",
       "Name: count, dtype: int64"
      ]
     },
     "execution_count": 20,
     "metadata": {},
     "output_type": "execute_result"
    }
   ],
   "source": [
    "df['doors'] = df['doors'].str.replace('doors', '').str.strip()\n",
    "df['doors'].value_counts()"
   ]
  },
  {
   "cell_type": "code",
   "execution_count": 21,
   "id": "5e99cde1",
   "metadata": {},
   "outputs": [],
   "source": [
    "df = df.rename(columns={'mileage_miles': 'miles_driven'})"
   ]
  },
  {
   "cell_type": "markdown",
   "id": "c080941e",
   "metadata": {},
   "source": [
    "### D) Data preprocessing"
   ]
  },
  {
   "cell_type": "code",
   "execution_count": 22,
   "id": "2f57eb0e",
   "metadata": {},
   "outputs": [],
   "source": [
    "num_features = ['miles_driven', 'avg_mpg']\n",
    "cat_features_label = ['type', 'make', 'model', 'transmission', 'drive_type', 'fuel', 'engine']\n",
    "cat_features_ordinal = ['year', 'doors']\n",
    "luxury = ['lux_category']"
   ]
  },
  {
   "cell_type": "code",
   "execution_count": 23,
   "id": "5fdc055b",
   "metadata": {},
   "outputs": [],
   "source": [
    "bin_features = ['apple_carplay', 'backup_camera_assist', 'bluetooth', 'heated_seats',\n",
    "                'hill_assist_system', 'keyless_entry', 'keyless_ignition', 'multimedia_telematics', 'premium_sound_system',\n",
    "                'satellite_radio', 'sunroof_moonroof', 'leather_seats', 'power_seats', 'traction_control',\n",
    "                'driver_assistance_confidence_pkg', 'head-up_display', 'lane_departure_warning', 'navigation_system',\n",
    "                'remote_start', 'blind_spot_monitor', 'lane_assist', 'parking_assist_system', 'stability_control', \n",
    "                'adaptive_cruise_control', 'alloy_wheels', 'cooled_seats', 'full_self-driving_capability',\n",
    "                'third_row_seating', 'tow_hitch_package', 'rear_seat_entertainment']"
   ]
  },
  {
   "cell_type": "code",
   "execution_count": 24,
   "id": "2cacffde",
   "metadata": {},
   "outputs": [],
   "source": [
    "# Replace all NaN values in binary features with 0\n",
    "df[bin_features] = df[bin_features].fillna(0)"
   ]
  },
  {
   "cell_type": "code",
   "execution_count": 25,
   "id": "5cd8bb43",
   "metadata": {},
   "outputs": [],
   "source": [
    "df['bin_sum'] = df[bin_features].sum(axis=1)"
   ]
  },
  {
   "cell_type": "code",
   "execution_count": 26,
   "id": "c9349507",
   "metadata": {},
   "outputs": [
    {
     "data": {
      "text/html": [
       "<div>\n",
       "<style scoped>\n",
       "    .dataframe tbody tr th:only-of-type {\n",
       "        vertical-align: middle;\n",
       "    }\n",
       "\n",
       "    .dataframe tbody tr th {\n",
       "        vertical-align: top;\n",
       "    }\n",
       "\n",
       "    .dataframe thead th {\n",
       "        text-align: right;\n",
       "    }\n",
       "</style>\n",
       "<table border=\"1\" class=\"dataframe\">\n",
       "  <thead>\n",
       "    <tr style=\"text-align: right;\">\n",
       "      <th></th>\n",
       "      <th>bin_sum</th>\n",
       "    </tr>\n",
       "  </thead>\n",
       "  <tbody>\n",
       "    <tr>\n",
       "      <th>count</th>\n",
       "      <td>2887.000000</td>\n",
       "    </tr>\n",
       "    <tr>\n",
       "      <th>mean</th>\n",
       "      <td>9.256321</td>\n",
       "    </tr>\n",
       "    <tr>\n",
       "      <th>std</th>\n",
       "      <td>2.580265</td>\n",
       "    </tr>\n",
       "    <tr>\n",
       "      <th>min</th>\n",
       "      <td>1.000000</td>\n",
       "    </tr>\n",
       "    <tr>\n",
       "      <th>25%</th>\n",
       "      <td>7.000000</td>\n",
       "    </tr>\n",
       "    <tr>\n",
       "      <th>50%</th>\n",
       "      <td>11.000000</td>\n",
       "    </tr>\n",
       "    <tr>\n",
       "      <th>75%</th>\n",
       "      <td>11.000000</td>\n",
       "    </tr>\n",
       "    <tr>\n",
       "      <th>max</th>\n",
       "      <td>12.000000</td>\n",
       "    </tr>\n",
       "  </tbody>\n",
       "</table>\n",
       "</div>"
      ],
      "text/plain": [
       "           bin_sum\n",
       "count  2887.000000\n",
       "mean      9.256321\n",
       "std       2.580265\n",
       "min       1.000000\n",
       "25%       7.000000\n",
       "50%      11.000000\n",
       "75%      11.000000\n",
       "max      12.000000"
      ]
     },
     "execution_count": 26,
     "metadata": {},
     "output_type": "execute_result"
    }
   ],
   "source": [
    "df[['bin_sum']].describe()"
   ]
  },
  {
   "cell_type": "code",
   "execution_count": 27,
   "id": "1d5dc94c",
   "metadata": {},
   "outputs": [],
   "source": [
    "# Define a function to map values to categories\n",
    "def categorize(value):\n",
    "    if value >= 11:\n",
    "        return 1\n",
    "    else:\n",
    "        return 0"
   ]
  },
  {
   "cell_type": "code",
   "execution_count": 28,
   "id": "c287d2dd",
   "metadata": {},
   "outputs": [],
   "source": [
    "# Apply the categorization function to create a new 'category' column\n",
    "df['lux_category'] = df['bin_sum'].apply(categorize)"
   ]
  },
  {
   "cell_type": "code",
   "execution_count": 29,
   "id": "5b39fc1a",
   "metadata": {},
   "outputs": [
    {
     "data": {
      "text/plain": [
       "lux_category\n",
       "1    1464\n",
       "0    1423\n",
       "Name: count, dtype: int64"
      ]
     },
     "execution_count": 29,
     "metadata": {},
     "output_type": "execute_result"
    }
   ],
   "source": [
    "df['lux_category'].value_counts()"
   ]
  },
  {
   "cell_type": "code",
   "execution_count": 30,
   "id": "60977feb",
   "metadata": {},
   "outputs": [],
   "source": [
    "# Preprocessing Pipeline\n",
    "preprocessor = ColumnTransformer(\n",
    "    transformers=[\n",
    "        ('num', StandardScaler(), num_features),\n",
    "        ('cat_label', OneHotEncoder(sparse=False, handle_unknown='ignore'), cat_features_label),\n",
    "        ('cat_ordinal', OrdinalEncoder(), cat_features_ordinal),\n",
    "        ('binary', 'passthrough', luxury)])"
   ]
  },
  {
   "cell_type": "markdown",
   "id": "b4599430",
   "metadata": {},
   "source": [
    "### Exploratory Data Analysis"
   ]
  },
  {
   "cell_type": "code",
   "execution_count": 31,
   "id": "75eb895a",
   "metadata": {},
   "outputs": [
    {
     "name": "stdout",
     "output_type": "stream",
     "text": [
      "Requirement already satisfied: seaborn in c:\\users\\sudhe\\anaconda3\\lib\\site-packages (0.12.2)\n",
      "Collecting seaborn\n",
      "  Obtaining dependency information for seaborn from https://files.pythonhosted.org/packages/7b/e5/83fcd7e9db036c179e0352bfcd20f81d728197a16f883e7b90307a88e65e/seaborn-0.13.0-py3-none-any.whl.metadata\n",
      "  Downloading seaborn-0.13.0-py3-none-any.whl.metadata (5.3 kB)\n",
      "Requirement already satisfied: numpy!=1.24.0,>=1.20 in c:\\users\\sudhe\\anaconda3\\lib\\site-packages (from seaborn) (1.24.3)\n",
      "Requirement already satisfied: pandas>=1.2 in c:\\users\\sudhe\\anaconda3\\lib\\site-packages (from seaborn) (2.0.3)\n",
      "Requirement already satisfied: matplotlib!=3.6.1,>=3.3 in c:\\users\\sudhe\\anaconda3\\lib\\site-packages (from seaborn) (3.7.2)\n",
      "Requirement already satisfied: contourpy>=1.0.1 in c:\\users\\sudhe\\anaconda3\\lib\\site-packages (from matplotlib!=3.6.1,>=3.3->seaborn) (1.0.5)\n",
      "Requirement already satisfied: cycler>=0.10 in c:\\users\\sudhe\\anaconda3\\lib\\site-packages (from matplotlib!=3.6.1,>=3.3->seaborn) (0.11.0)\n",
      "Requirement already satisfied: fonttools>=4.22.0 in c:\\users\\sudhe\\anaconda3\\lib\\site-packages (from matplotlib!=3.6.1,>=3.3->seaborn) (4.25.0)\n",
      "Requirement already satisfied: kiwisolver>=1.0.1 in c:\\users\\sudhe\\anaconda3\\lib\\site-packages (from matplotlib!=3.6.1,>=3.3->seaborn) (1.4.4)\n",
      "Requirement already satisfied: packaging>=20.0 in c:\\users\\sudhe\\anaconda3\\lib\\site-packages (from matplotlib!=3.6.1,>=3.3->seaborn) (23.1)\n",
      "Requirement already satisfied: pillow>=6.2.0 in c:\\users\\sudhe\\anaconda3\\lib\\site-packages (from matplotlib!=3.6.1,>=3.3->seaborn) (9.4.0)\n",
      "Requirement already satisfied: pyparsing<3.1,>=2.3.1 in c:\\users\\sudhe\\anaconda3\\lib\\site-packages (from matplotlib!=3.6.1,>=3.3->seaborn) (3.0.9)\n",
      "Requirement already satisfied: python-dateutil>=2.7 in c:\\users\\sudhe\\anaconda3\\lib\\site-packages (from matplotlib!=3.6.1,>=3.3->seaborn) (2.8.2)\n",
      "Requirement already satisfied: pytz>=2020.1 in c:\\users\\sudhe\\anaconda3\\lib\\site-packages (from pandas>=1.2->seaborn) (2023.3.post1)\n",
      "Requirement already satisfied: tzdata>=2022.1 in c:\\users\\sudhe\\anaconda3\\lib\\site-packages (from pandas>=1.2->seaborn) (2023.3)\n",
      "Requirement already satisfied: six>=1.5 in c:\\users\\sudhe\\anaconda3\\lib\\site-packages (from python-dateutil>=2.7->matplotlib!=3.6.1,>=3.3->seaborn) (1.16.0)\n",
      "Using cached seaborn-0.13.0-py3-none-any.whl (294 kB)\n",
      "Installing collected packages: seaborn\n",
      "  Attempting uninstall: seaborn\n",
      "    Found existing installation: seaborn 0.12.2\n",
      "    Uninstalling seaborn-0.12.2:\n",
      "      Successfully uninstalled seaborn-0.12.2\n",
      "Successfully installed seaborn-0.13.0\n"
     ]
    }
   ],
   "source": [
    "!pip install --upgrade seaborn"
   ]
  },
  {
   "cell_type": "code",
   "execution_count": null,
   "id": "f8faee2a",
   "metadata": {},
   "outputs": [],
   "source": []
  },
  {
   "cell_type": "code",
   "execution_count": 32,
   "id": "518031ad",
   "metadata": {},
   "outputs": [
    {
     "data": {
      "image/png": "[encoded data removed]",
      "text/plain": [
       "<Figure size 600x400 with 1 Axes>"
      ]
     },
     "metadata": {},
     "output_type": "display_data"
    }
   ],
   "source": [
    "# Price Distribution\n",
    "plt.figure(figsize=(6, 4))\n",
    "sns.histplot(data=df['price'], bins=15, kde=True)\n",
    "plt.title('Distribution of Price')\n",
    "plt.show()"
   ]
  },
  {
   "cell_type": "code",
   "execution_count": 33,
   "id": "6420d102",
   "metadata": {},
   "outputs": [
    {
     "data": {
      "image/png": "[encoded data removed]",
      "text/plain": [
       "<Figure size 2400x1200 with 2 Axes>"
      ]
     },
     "metadata": {},
     "output_type": "display_data"
    }
   ],
   "source": [
    "# Distribution of Numerical Features\n",
    "plt.figure(figsize=(24, 12))\n",
    "for feature in num_features:\n",
    "    plt.subplot(3, 5, num_features.index(feature) + 1)\n",
    "    sns.histplot(data=df[feature], bins=20, kde=True)\n",
    "    plt.title(feature)\n",
    "plt.show()"
   ]
  },
  {
   "cell_type": "code",
   "execution_count": 34,
   "id": "602ee5d9",
   "metadata": {},
   "outputs": [
    {
     "data": {
      "image/png": "[encoded data removed]",
      "text/plain": [
       "<Figure size 1000x300 with 1 Axes>"
      ]
     },
     "metadata": {},
     "output_type": "display_data"
    }
   ],
   "source": [
    "#Top car makers by frequency\n",
    "n = 10\n",
    "top_makers = df['make'].value_counts().head(n)\n",
    "\n",
    "plt.figure(figsize=(10, 3))\n",
    "sns.barplot(x=top_makers.values, y=top_makers.index)\n",
    "plt.xlabel('Frequency')\n",
    "plt.ylabel('Car Makers')\n",
    "plt.title(f'Top Car Makers by Frequency')\n",
    "plt.show()"
   ]
  },
  {
   "cell_type": "code",
   "execution_count": 35,
   "id": "957cd74b",
   "metadata": {},
   "outputs": [
    {
     "data": {
      "image/png": "[encoded data removed]",
      "text/plain": [
       "<Figure size 1600x1600 with 6 Axes>"
      ]
     },
     "metadata": {},
     "output_type": "display_data"
    }
   ],
   "source": [
    "# Categorical Features vs Price BoxPlots\n",
    "cat_cols = ['type', 'transmission', 'drive_type', 'fuel', 'engine', 'doors']\n",
    "\n",
    "plt.figure(figsize=(16, 16))\n",
    "for feature in cat_cols:\n",
    "    plt.subplot(3, 2, cat_cols.index(feature) + 1)\n",
    "    sns.boxplot(data=df, x=feature, y='price')\n",
    "    plt.title(f'{feature} vs. Price')\n",
    "plt.show()"
   ]
  },
  {
   "cell_type": "code",
   "execution_count": 36,
   "id": "58ed2415",
   "metadata": {},
   "outputs": [
    {
     "data": {
      "image/png": "[encoded data removed]",
      "text/plain": [
       "<Figure size 400x200 with 2 Axes>"
      ]
     },
     "metadata": {},
     "output_type": "display_data"
    }
   ],
   "source": [
    "# Correlation Analysis\n",
    "correlation_matrix = df[num_features + ['price']].corr()\n",
    "plt.figure(figsize=(4, 2))\n",
    "sns.heatmap(correlation_matrix, annot=True, cmap='coolwarm')\n",
    "plt.title('Correlation Heatmap')\n",
    "plt.show()"
   ]
  },
  {
   "cell_type": "markdown",
   "id": "b5c596ba",
   "metadata": {},
   "source": [
    "### E) Train & Test Split"
   ]
  },
  {
   "cell_type": "code",
   "execution_count": 37,
   "id": "4247a87e",
   "metadata": {},
   "outputs": [],
   "source": [
    "# Split the data into features (X) and target (y)\n",
    "X = df.drop(columns=bin_features)\n",
    "X = X.drop(columns=['bin_sum','price'])\n",
    "y = df['price']\n",
    "\n",
    "# Split the data into train and test sets\n",
    "X_train, X_test, y_train, y_test = train_test_split(X, y, test_size=0.2, random_state=42)"
   ]
  },
  {
   "cell_type": "code",
   "execution_count": 38,
   "id": "bfc8cd75",
   "metadata": {},
   "outputs": [],
   "source": [
    "import statsmodels.api as sm"
   ]
  },
  {
   "cell_type": "code",
   "execution_count": 39,
   "id": "470140d0",
   "metadata": {},
   "outputs": [],
   "source": [
    "X_trans  = preprocessor.fit_transform(X)"
   ]
  },
  {
   "cell_type": "code",
   "execution_count": 40,
   "id": "8ab4fd32",
   "metadata": {},
   "outputs": [
    {
     "data": {
      "text/plain": [
       "make\n",
       "acura          6\n",
       "alfa           2\n",
       "audi          18\n",
       "bmw           15\n",
       "buick          7\n",
       "cadillac      10\n",
       "chevrolet     19\n",
       "chrysler       3\n",
       "dodge          6\n",
       "fiat           2\n",
       "ford          20\n",
       "genesis        5\n",
       "gmc            7\n",
       "honda         11\n",
       "hyundai       14\n",
       "infiniti       6\n",
       "jaguar         4\n",
       "jeep           9\n",
       "kia           15\n",
       "land           2\n",
       "lexus         10\n",
       "lincoln        9\n",
       "mazda          7\n",
       "mercedes      14\n",
       "mini           2\n",
       "mitsubishi     3\n",
       "nissan        12\n",
       "polestar       1\n",
       "porsche        2\n",
       "ram            3\n",
       "subaru         7\n",
       "tesla          3\n",
       "toyota        19\n",
       "volkswagen     9\n",
       "volvo          6\n",
       "Name: model, dtype: int64"
      ]
     },
     "execution_count": 40,
     "metadata": {},
     "output_type": "execute_result"
    }
   ],
   "source": [
    "df.groupby('make')['model'].nunique()"
   ]
  },
  {
   "cell_type": "code",
   "execution_count": 41,
   "id": "2ad4aad8",
   "metadata": {},
   "outputs": [
    {
     "data": {
      "text/plain": [
       "model\n",
       "124 spider    27999\n",
       "1500          56999\n",
       "2             40999\n",
       "2 series      38999\n",
       "200           18589\n",
       "              ...  \n",
       "xt6           53999\n",
       "xts           21589\n",
       "yukon         63999\n",
       "yukon xl      46589\n",
       "z4            52589\n",
       "Name: price, Length: 288, dtype: int64"
      ]
     },
     "execution_count": 41,
     "metadata": {},
     "output_type": "execute_result"
    }
   ],
   "source": [
    "df.groupby(['model'])['price'].max()"
   ]
  },
  {
   "cell_type": "code",
   "execution_count": null,
   "id": "bdc2431f",
   "metadata": {},
   "outputs": [],
   "source": []
  },
  {
   "cell_type": "code",
   "execution_count": 42,
   "id": "1aec25ce",
   "metadata": {},
   "outputs": [
    {
     "name": "stdout",
     "output_type": "stream",
     "text": [
      "                            OLS Regression Results                            \n",
      "==============================================================================\n",
      "Dep. Variable:                  price   R-squared:                       0.863\n",
      "Model:                            OLS   Adj. R-squared:                  0.847\n",
      "Method:                 Least Squares   F-statistic:                     53.10\n",
      "Date:                Mon, 06 Nov 2023   Prob (F-statistic):               0.00\n",
      "Time:                        15:56:21   Log-Likelihood:                -27774.\n",
      "No. Observations:                2887   AIC:                         5.616e+04\n",
      "Df Residuals:                    2579   BIC:                         5.800e+04\n",
      "Df Model:                         307                                         \n",
      "Covariance Type:            nonrobust                                         \n",
      "==============================================================================\n",
      "                 coef    std err          t      P>|t|      [0.025      0.975]\n",
      "------------------------------------------------------------------------------\n",
      "const       8365.0418    422.571     19.796      0.000    7536.430    9193.654\n",
      "x1         -2376.6126    114.392    -20.776      0.000   -2600.922   -2152.303\n",
      "x2         -1289.4441    173.493     -7.432      0.000   -1629.644    -949.244\n",
      "x3          7324.6242    962.227      7.612      0.000    5437.808    9211.441\n",
      "x4          4952.3379    976.732      5.070      0.000    3037.080    6867.595\n",
      "x5          -697.9161    718.173     -0.972      0.331   -2106.169     710.337\n",
      "x6          1386.8840    818.473      1.694      0.090    -218.047    2991.814\n",
      "x7          3144.8422    612.003      5.139      0.000    1944.775    4344.910\n",
      "x8         -3354.4632    565.967     -5.927      0.000   -4464.259   -2244.668\n",
      "x9          -100.7632    438.427     -0.230      0.818    -960.467     758.940\n",
      "x10        -4290.5040   1925.121     -2.229      0.026   -8065.444    -515.564\n",
      "x11         -449.1329    894.377     -0.502      0.616   -2202.904    1304.638\n",
      "x12         -410.8713    803.086     -0.512      0.609   -1985.630    1163.888\n",
      "x13         3679.2005    722.000      5.096      0.000    2263.443    5094.958\n",
      "x14         6982.5365    629.105     11.099      0.000    5748.934    8216.139\n",
      "x15        -6277.9818    988.879     -6.349      0.000   -8217.059   -4338.904\n",
      "x16         4816.2258    897.038      5.369      0.000    3057.238    6575.214\n",
      "x17        -2450.2392    521.825     -4.696      0.000   -3473.478   -1427.001\n",
      "x18        -4148.7877    942.347     -4.403      0.000   -5996.621   -2300.955\n",
      "x19        -3123.1893    889.601     -3.511      0.000   -4867.595   -1378.784\n",
      "x20        -6002.6308   1152.223     -5.210      0.000   -8262.006   -3743.255\n",
      "x21        -1810.2223    504.121     -3.591      0.000   -2798.746    -821.699\n",
      "x22         5934.5504   1042.984      5.690      0.000    3889.379    7979.721\n",
      "x23          327.3004    713.285      0.459      0.646   -1071.368    1725.969\n",
      "x24        -3849.6254    653.382     -5.892      0.000   -5130.832   -2568.418\n",
      "x25        -5478.6407    584.885     -9.367      0.000   -6625.532   -4331.750\n",
      "x26        -2914.0165   1095.496     -2.660      0.008   -5062.157    -765.876\n",
      "x27         6856.4975   1334.861      5.136      0.000    4238.990    9474.005\n",
      "x28        -2522.3456    694.845     -3.630      0.000   -3884.856   -1159.835\n",
      "x29        -2918.3010    571.870     -5.103      0.000   -4039.671   -1796.931\n",
      "x30         3095.8784   1819.507      1.701      0.089    -471.965    6663.722\n",
      "x31         3863.6422    664.501      5.814      0.000    2560.633    5166.651\n",
      "x32         4370.1532    915.330      4.774      0.000    2575.296    6165.010\n",
      "x33        -5872.8284    822.806     -7.138      0.000   -7486.256   -4259.401\n",
      "x34         5825.6395    688.431      8.462      0.000    4475.706    7175.573\n",
      "x35        -2023.9482   1404.258     -1.441      0.150   -4777.535     729.638\n",
      "x36        -8666.7595   1273.513     -6.805      0.000   -1.12e+04   -6169.547\n",
      "x37        -8012.1510    547.359    -14.638      0.000   -9085.458   -6938.844\n",
      "x38         8087.0641   1862.215      4.343      0.000    4435.477    1.17e+04\n",
      "x39         4476.4751   1478.362      3.028      0.002    1577.578    7375.372\n",
      "x40          917.8711    906.220      1.013      0.311    -859.122    2694.864\n",
      "x41        -4196.4463    637.612     -6.582      0.000   -5446.730   -2946.163\n",
      "x42         2.125e+04   2674.344      7.945      0.000     1.6e+04    2.65e+04\n",
      "x43         -538.3671    534.740     -1.007      0.314   -1586.930     510.196\n",
      "x44        -1733.3195    628.802     -2.757      0.006   -2966.328    -500.311\n",
      "x45         1284.0355    810.899      1.583      0.113    -306.044    2874.115\n",
      "x46        -1027.9543   1706.335     -0.602      0.547   -4373.879    2317.971\n",
      "x47        -7884.1990   1097.987     -7.181      0.000      -1e+04   -5731.174\n",
      "x48         8087.0641   1862.215      4.343      0.000    4435.477    1.17e+04\n",
      "x49        -7307.5584   2191.235     -3.335      0.001   -1.16e+04   -3010.801\n",
      "x50        -4609.6173   2117.896     -2.177      0.030   -8762.567    -456.668\n",
      "x51        -1785.1161   1402.647     -1.273      0.203   -4535.544     965.312\n",
      "x52        -5860.9174   1128.320     -5.194      0.000   -8073.422   -3648.413\n",
      "x53         1408.2185   1670.971      0.843      0.399   -1868.363    4684.800\n",
      "x54         1.059e+04   2203.067      4.806      0.000    6267.227    1.49e+04\n",
      "x55        -4913.9286   2187.796     -2.246      0.025   -9203.943    -623.915\n",
      "x56         4769.1041    916.205      5.205      0.000    2972.532    6565.676\n",
      "x57        -2112.2692   1212.136     -1.743      0.082   -4489.127     264.589\n",
      "x58        -4974.6765   1955.942     -2.543      0.011   -8810.053   -1139.300\n",
      "x59        -1411.8390   2674.269     -0.528      0.598   -6655.771    3832.093\n",
      "x60        -2626.8578   3775.120     -0.696      0.487      -1e+04    4775.716\n",
      "x61        -5881.6788   1660.821     -3.541      0.000   -9138.357   -2625.001\n",
      "x62        -4259.5399   1324.453     -3.216      0.001   -6856.639   -1662.440\n",
      "x63        -2707.5629   1385.898     -1.954      0.051   -5425.149      10.023\n",
      "x64         -872.8867   1956.344     -0.446      0.656   -4709.051    2963.278\n",
      "x65        -1961.2600   2287.151     -0.858      0.391   -6446.098    2523.578\n",
      "x66         7337.4229   3716.158      1.974      0.048      50.467    1.46e+04\n",
      "x67        -3734.5606   1235.869     -3.022      0.003   -6157.956   -1311.165\n",
      "x68         2861.8082    823.547      3.475      0.001    1246.928    4476.689\n",
      "x69         -943.1525   4228.039     -0.223      0.823   -9233.848    7347.543\n",
      "x70         1279.3997    994.208      1.287      0.198    -670.127    3228.926\n",
      "x71         5026.6789   3519.147      1.428      0.153   -1873.961    1.19e+04\n",
      "x72         2323.4666   1211.541      1.918      0.055     -52.224    4699.157\n",
      "x73         -565.3845   1090.049     -0.519      0.604   -2702.845    1572.076\n",
      "x74        -3725.2575   2273.641     -1.638      0.101   -8183.605     733.090\n",
      "x75         1003.1782   1634.677      0.614      0.539   -2202.233    4208.590\n",
      "x76         6052.7158   2599.869      2.328      0.020     954.674    1.12e+04\n",
      "x77         3283.7084   2211.225      1.485      0.138   -1052.247    7619.664\n",
      "x78        -3828.3928   2642.869     -1.449      0.148   -9010.754    1353.968\n",
      "x79         -576.1449   1136.651     -0.507      0.612   -2804.985    1652.695\n",
      "x80        -2814.7438   2197.887     -1.281      0.200   -7124.545    1495.058\n",
      "x81         8911.9621   1942.258      4.588      0.000    5103.419    1.27e+04\n",
      "x82         1824.8460   1446.353      1.262      0.207   -1011.286    4660.978\n",
      "x83        -6446.9433   3665.246     -1.759      0.079   -1.36e+04     740.179\n",
      "x84        -7575.7995   1915.929     -3.954      0.000   -1.13e+04   -3818.885\n",
      "x85        -3635.2098   3636.634     -1.000      0.318   -1.08e+04    3495.808\n",
      "x86        -2663.8536   1203.408     -2.214      0.027   -5023.596    -304.111\n",
      "x87         -637.2221   1154.348     -0.552      0.581   -2900.766    1626.321\n",
      "x88         2.119e+04   2626.252      8.068      0.000     1.6e+04    2.63e+04\n",
      "x89         7187.6967   1770.251      4.060      0.000    3716.440    1.07e+04\n",
      "x90        -2042.4285   3731.055     -0.547      0.584   -9358.596    5273.739\n",
      "x91        -3067.1107   2745.355     -1.117      0.264   -8450.434    2316.212\n",
      "x92        -2256.5180   1346.987     -1.675      0.094   -4897.804     384.768\n",
      "x93         6998.6928   3806.406      1.839      0.066    -465.229    1.45e+04\n",
      "x94         8963.3047   4921.920      1.821      0.069    -688.011    1.86e+04\n",
      "x95         1.451e+04    910.706     15.935      0.000    1.27e+04    1.63e+04\n",
      "x96        -3771.8736   1995.589     -1.890      0.059   -7684.993     141.245\n",
      "x97         -158.2863   1645.640     -0.096      0.923   -3385.196    3068.623\n",
      "x98        -8351.0774   1403.441     -5.950      0.000   -1.11e+04   -5599.092\n",
      "x99         1.247e+04   4281.863      2.912      0.004    4073.301    2.09e+04\n",
      "x100       -1606.6223   1269.341     -1.266      0.206   -4095.653     882.409\n",
      "x101       -2122.6440   2649.769     -0.801      0.423   -7318.534    3073.246\n",
      "x102        2091.2059   1268.822      1.648      0.099    -396.808    4579.220\n",
      "x103       -2797.4599    788.147     -3.549      0.000   -4342.926   -1251.994\n",
      "x104       -5517.4038   1661.691     -3.320      0.001   -8775.788   -2259.019\n",
      "x105        5710.1188   1993.018      2.865      0.004    1802.042    9618.196\n",
      "x106        -829.0879   3566.318     -0.232      0.816   -7822.225    6164.050\n",
      "x107        2583.7770   2672.764      0.967      0.334   -2657.204    7824.758\n",
      "x108        3639.3432   1407.287      2.586      0.010     879.815    6398.871\n",
      "x109        4145.5561   1183.472      3.503      0.000    1824.904    6466.208\n",
      "x110       -9029.2041    841.437    -10.731      0.000   -1.07e+04   -7379.244\n",
      "x111          40.0422    815.287      0.049      0.961   -1558.641    1638.725\n",
      "x112         -46.2321   3576.240     -0.013      0.990   -7058.824    6966.360\n",
      "x113       -3643.9500   1180.482     -3.087      0.002   -5958.738   -1329.162\n",
      "x114       -7608.8841    937.429     -8.117      0.000   -9447.075   -5770.694\n",
      "x115         544.3907   3540.852      0.154      0.878   -6398.809    7487.591\n",
      "x116        1163.7654   1849.422      0.629      0.529   -2462.737    4790.268\n",
      "x117       -3187.7135   2658.025     -1.199      0.231   -8399.792    2024.365\n",
      "x118       -7545.7715    867.955     -8.694      0.000   -9247.731   -5843.812\n",
      "x119       -8821.4271   1720.756     -5.126      0.000   -1.22e+04   -5447.223\n",
      "x120       -8539.4891   2616.113     -3.264      0.001   -1.37e+04   -3409.595\n",
      "x121         2.63e+04   1440.214     18.263      0.000    2.35e+04    2.91e+04\n",
      "x122         246.9655    784.720      0.315      0.753   -1291.779    1785.710\n",
      "x123       -4731.2817    936.696     -5.051      0.000   -6568.034   -2894.529\n",
      "x124       -4263.9343   1949.301     -2.187      0.029   -8086.288    -441.581\n",
      "x125        -315.6567   2628.878     -0.120      0.904   -5470.582    4839.268\n",
      "x126        1146.3892   2214.558      0.518      0.605   -3196.103    5488.881\n",
      "x127        2.626e+04   3634.755      7.225      0.000    1.91e+04    3.34e+04\n",
      "x128       -3757.8513   1580.229     -2.378      0.017   -6856.498    -659.204\n",
      "x129       -4572.5572   1495.611     -3.057      0.002   -7505.276   -1639.838\n",
      "x130       -1491.9290    988.430     -1.509      0.131   -3430.126     446.268\n",
      "x131        5295.7115   3423.500      1.547      0.122   -1417.377     1.2e+04\n",
      "x132         286.7549   3380.872      0.085      0.932   -6342.744    6916.254\n",
      "x133         -27.9238   1597.429     -0.017      0.986   -3160.296    3104.449\n",
      "x134       -6646.1267   3019.800     -2.201      0.028   -1.26e+04    -724.648\n",
      "x135       -1.321e+04   1480.405     -8.925      0.000   -1.61e+04   -1.03e+04\n",
      "x136       -5873.9840    783.298     -7.499      0.000   -7409.940   -4338.028\n",
      "x137       -3085.4195    926.962     -3.329      0.001   -4903.084   -1267.755\n",
      "x138         177.9955   1606.403      0.111      0.912   -2971.974    3327.965\n",
      "x139       -5942.2573   1498.356     -3.966      0.000   -8880.359   -3004.155\n",
      "x140       -6310.5542   2431.221     -2.596      0.009   -1.11e+04   -1543.211\n",
      "x141       -1394.9812   1929.614     -0.723      0.470   -5178.731    2388.769\n",
      "x142       -7334.6062    899.093     -8.158      0.000   -9097.623   -5571.589\n",
      "x143        -324.8528   1495.173     -0.217      0.828   -3256.714    2607.008\n",
      "x144        1475.8230   2710.992      0.544      0.586   -3840.118    6791.764\n",
      "x145       -8350.2862    879.370     -9.496      0.000   -1.01e+04   -6625.943\n",
      "x146         2.21e+04   4650.251      4.753      0.000     1.3e+04    3.12e+04\n",
      "x147         1.11e+04   1603.661      6.923      0.000    7958.201    1.42e+04\n",
      "x148        1.881e+04   2195.167      8.570      0.000    1.45e+04    2.31e+04\n",
      "x149        -614.8719   1016.711     -0.605      0.545   -2608.524    1378.781\n",
      "x150        3779.3587    723.473      5.224      0.000    2360.711    5198.006\n",
      "x151        5873.6979   1737.575      3.380      0.001    2466.515    9280.881\n",
      "x152        1.291e+04   1977.243      6.529      0.000    9031.579    1.68e+04\n",
      "x153       -6555.8825   1928.510     -3.399      0.001   -1.03e+04   -2774.298\n",
      "x154        8756.0442   3386.860      2.585      0.010    2114.804    1.54e+04\n",
      "x155       -8178.9916   2637.725     -3.101      0.002   -1.34e+04   -3006.719\n",
      "x156       -4090.0853   1793.207     -2.281      0.023   -7606.356    -573.815\n",
      "x157         1.12e+04   2679.403      4.179      0.000    5943.297    1.65e+04\n",
      "x158       -6824.1861   3693.993     -1.847      0.065   -1.41e+04     419.307\n",
      "x159        -754.9561   2023.846     -0.373      0.709   -4723.484    3213.572\n",
      "x160       -2029.7209    953.910     -2.128      0.033   -3900.228    -159.214\n",
      "x161       -7505.2166   1088.732     -6.894      0.000   -9640.093   -5370.340\n",
      "x162        -604.4856   1272.395     -0.475      0.635   -3099.504    1890.533\n",
      "x163       -5287.7876   1033.983     -5.114      0.000   -7315.309   -3260.266\n",
      "x164       -3962.4544   1584.618     -2.501      0.012   -7069.707    -855.202\n",
      "x165       -3582.1719   2451.584     -1.461      0.144   -8389.444    1225.100\n",
      "x166         518.3247   3316.031      0.156      0.876   -5984.029    7020.678\n",
      "x167        2855.0188   1069.814      2.669      0.008     757.238    4952.799\n",
      "x168       -2131.3077   1333.830     -1.598      0.110   -4746.794     484.178\n",
      "x169        2.206e+04   3782.417      5.831      0.000    1.46e+04    2.95e+04\n",
      "x170       -4947.1142   1683.247     -2.939      0.003   -8247.766   -1646.463\n",
      "x171       -4440.4645   3000.676     -1.480      0.139   -1.03e+04    1443.513\n",
      "x172         173.0665    702.666      0.246      0.805   -1204.780    1550.913\n",
      "x173        5252.3932   1647.122      3.189      0.001    2022.577    8482.209\n",
      "x174        -374.5612   2127.795     -0.176      0.860   -4546.921    3797.798\n",
      "x175        1875.5332   2089.883      0.897      0.370   -2222.486    5973.553\n",
      "x176        1.109e+04   2460.055      4.506      0.000    6261.436    1.59e+04\n",
      "x177       -4476.7715   1375.865     -3.254      0.001   -7174.684   -1778.859\n",
      "x178         375.6052   1270.713      0.296      0.768   -2116.116    2867.327\n",
      "x179       -5831.3842   1469.043     -3.970      0.000   -8712.007   -2950.761\n",
      "x180        9425.9773   3525.777      2.673      0.008    2512.337    1.63e+04\n",
      "x181       -1.183e+04   4641.444     -2.548      0.011   -2.09e+04   -2723.849\n",
      "x182        3.044e+04   3976.214      7.655      0.000    2.26e+04    3.82e+04\n",
      "x183        1.566e+04   3940.441      3.975      0.000    7935.050    2.34e+04\n",
      "x184       -2737.8177   1711.803     -1.599      0.110   -6094.464     618.829\n",
      "x185        2885.4722   2686.993      1.074      0.283   -2383.409    8154.354\n",
      "x186       -2634.2744   1549.311     -1.700      0.089   -5672.293     403.745\n",
      "x187       -1209.3036   2584.224     -0.468      0.640   -6276.668    3858.061\n",
      "x188       -1750.8004   3400.989     -0.515      0.607   -8419.746    4918.145\n",
      "x189       -4954.8806   1987.086     -2.494      0.013   -8851.327   -1058.434\n",
      "x190        1.539e+04   4798.518      3.207      0.001    5981.468    2.48e+04\n",
      "x191        1120.5439   1261.759      0.888      0.375   -1353.619    3594.707\n",
      "x192       -4803.8304   1027.386     -4.676      0.000   -6818.415   -2789.246\n",
      "x193       -6726.4551   2076.479     -3.239      0.001   -1.08e+04   -2654.720\n",
      "x194       -2369.2106    914.019     -2.592      0.010   -4161.497    -576.924\n",
      "x195       -4230.0887   1357.163     -3.117      0.002   -6891.328   -1568.850\n",
      "x196       -6406.5373   1404.706     -4.561      0.000   -9161.004   -3652.071\n",
      "x197        -962.9223   1909.138     -0.504      0.614   -4706.522    2780.677\n",
      "x198        2988.4100   3501.778      0.853      0.394   -3878.171    9854.991\n",
      "x199        2.224e+04   3731.967      5.959      0.000    1.49e+04    2.96e+04\n",
      "x200         894.1372   3559.598      0.251      0.802   -6085.822    7874.097\n",
      "x201        1.746e+04   2593.058      6.735      0.000    1.24e+04    2.25e+04\n",
      "x202        7915.8548   2741.697      2.887      0.004    2539.704    1.33e+04\n",
      "x203        6927.6064   2279.704      3.039      0.002    2457.371    1.14e+04\n",
      "x204        1892.6980   1975.131      0.958      0.338   -1980.305    5765.701\n",
      "x205       -2842.8522   1270.649     -2.237      0.025   -5334.447    -351.257\n",
      "x206       -7195.8027    949.638     -7.577      0.000   -9057.933   -5333.672\n",
      "x207        7007.0842   2131.964      3.287      0.001    2826.550    1.12e+04\n",
      "x208       -1663.2206   1495.757     -1.112      0.266   -4596.227    1269.786\n",
      "x209        -209.1914   3436.118     -0.061      0.951   -6947.022    6528.639\n",
      "x210        1692.0266   1276.830      1.325      0.185    -811.690    4195.743\n",
      "x211         526.2096   1832.196      0.287      0.774   -3066.515    4118.934\n",
      "x212       -1.157e+04   1960.503     -5.900      0.000   -1.54e+04   -7722.963\n",
      "x213       -9423.5617   1674.835     -5.627      0.000   -1.27e+04   -6139.404\n",
      "x214       -7718.7566   1684.545     -4.582      0.000    -1.1e+04   -4415.558\n",
      "x215       -1.261e+04   3282.217     -3.841      0.000    -1.9e+04   -6169.672\n",
      "x216        8454.5509   2712.609      3.117      0.002    3135.439    1.38e+04\n",
      "x217         2.54e+04   3229.143      7.866      0.000    1.91e+04    3.17e+04\n",
      "x218        -733.2217   1251.862     -0.586      0.558   -3187.977    1721.534\n",
      "x219         115.9251   1130.063      0.103      0.918   -2099.997    2331.847\n",
      "x220       -6795.7138   2598.220     -2.616      0.009   -1.19e+04   -1700.905\n",
      "x221        1.193e+04   3585.632      3.328      0.001    4902.788     1.9e+04\n",
      "x222        2.988e+04   3597.947      8.306      0.000    2.28e+04    3.69e+04\n",
      "x223       -6971.7789   1792.344     -3.890      0.000   -1.05e+04   -3457.200\n",
      "x224        5322.5844   3982.156      1.337      0.181   -2485.963    1.31e+04\n",
      "x225       -4099.6044   1047.220     -3.915      0.000   -6153.082   -2046.127\n",
      "x226        2683.6000   1149.154      2.335      0.020     430.242    4936.958\n",
      "x227       -3252.4924   1621.865     -2.005      0.045   -6432.782     -72.203\n",
      "x228        2481.3526   1956.341      1.268      0.205   -1354.806    6317.512\n",
      "x229        -404.0014   1765.724     -0.229      0.819   -3866.381    3058.378\n",
      "x230       -1616.6313   2312.040     -0.699      0.484   -6150.275    2917.012\n",
      "x231        -947.3889   1161.311     -0.816      0.415   -3224.585    1329.807\n",
      "x232        8903.0059   1120.547      7.945      0.000    6705.743    1.11e+04\n",
      "x233       -3757.7644   1427.949     -2.632      0.009   -6557.807    -957.722\n",
      "x234         668.2185   3559.374      0.188      0.851   -6311.302    7647.739\n",
      "x235        3071.8506   1342.519      2.288      0.022     439.326    5704.375\n",
      "x236       -5554.8787   2077.542     -2.674      0.008   -9628.698   -1481.059\n",
      "x237        2293.9018   1017.178      2.255      0.024     299.334    4288.469\n",
      "x238        -1.33e+04   1667.341     -7.976      0.000   -1.66e+04      -1e+04\n",
      "x239       -5518.4082   1865.236     -2.959      0.003   -9175.920   -1860.897\n",
      "x240       -8419.3315   1196.001     -7.040      0.000   -1.08e+04   -6074.113\n",
      "x241       -1750.9867   2564.319     -0.683      0.495   -6779.320    3277.347\n",
      "x242       -5927.8919   1026.416     -5.775      0.000   -7940.574   -3915.210\n",
      "x243        5034.7485   2583.821      1.949      0.051     -31.825    1.01e+04\n",
      "x244        2273.5773   2328.393      0.976      0.329   -2292.131    6839.286\n",
      "x245       -2209.6155   1446.413     -1.528      0.127   -5045.864     626.633\n",
      "x246        1.113e+04   2651.373      4.200      0.000    5935.877    1.63e+04\n",
      "x247       -4127.7476   2559.751     -1.613      0.107   -9147.122     891.627\n",
      "x248         304.4812   3440.652      0.088      0.929   -6442.240    7051.202\n",
      "x249       -4648.0892   3429.626     -1.355      0.175   -1.14e+04    2077.010\n",
      "x250       -4999.7718   1085.522     -4.606      0.000   -7128.355   -2871.188\n",
      "x251       -3893.3029    734.139     -5.303      0.000   -5332.864   -2453.741\n",
      "x252        3010.5472   1662.526      1.811      0.070    -249.475    6270.569\n",
      "x253         542.6933   1089.206      0.498      0.618   -1593.113    2678.500\n",
      "x254        5032.4933   3518.883      1.430      0.153   -1867.629    1.19e+04\n",
      "x255       -6307.6947   1284.872     -4.909      0.000   -8827.179   -3788.210\n",
      "x256       -1467.1563   1676.559     -0.875      0.382   -4754.695    1820.383\n",
      "x257       -9196.2709   1914.639     -4.803      0.000    -1.3e+04   -5441.886\n",
      "x258        -385.9444    899.915     -0.429      0.668   -2150.573    1378.684\n",
      "x259       -2075.3600   1190.013     -1.744      0.081   -4408.837     258.117\n",
      "x260         -77.7708   1215.313     -0.064      0.949   -2460.859    2305.317\n",
      "x261        -333.1005   1273.872     -0.261      0.794   -2831.016    2164.815\n",
      "x262       -8603.5266   2882.114     -2.985      0.003   -1.43e+04   -2952.034\n",
      "x263         1.17e+04   2882.435      4.059      0.000    6047.285    1.74e+04\n",
      "x264        1.482e+04   2717.948      5.452      0.000    9489.453    2.01e+04\n",
      "x265       -1781.6651   1231.596     -1.447      0.148   -4196.682     633.352\n",
      "x266       -5625.7227   3725.922     -1.510      0.131   -1.29e+04    1680.379\n",
      "x267       -4300.0778   2303.156     -1.867      0.062   -8816.300     216.144\n",
      "x268       -2884.8953   3733.982     -0.773      0.440   -1.02e+04    4437.012\n",
      "x269       -4086.1541   1611.124     -2.536      0.011   -7245.381    -926.927\n",
      "x270        1132.4235   3734.926      0.303      0.762   -6191.333    8456.180\n",
      "x271       -4701.7816   1046.980     -4.491      0.000   -6754.788   -2648.776\n",
      "x272       -1481.2045   1128.846     -1.312      0.190   -3694.742     732.333\n",
      "x273       -2008.7766   2614.949     -0.768      0.442   -7136.389    3118.836\n",
      "x274       -7560.1780   1761.114     -4.293      0.000    -1.1e+04   -4106.837\n",
      "x275       -2444.1255   1377.205     -1.775      0.076   -5144.665     256.414\n",
      "x276        1753.3654   1211.368      1.447      0.148    -621.987    4128.718\n",
      "x277       -1090.8453   1288.907     -0.846      0.397   -3618.242    1436.551\n",
      "x278        4536.3046   2414.215      1.879      0.060    -197.691    9270.301\n",
      "x279       -2910.2802    904.600     -3.217      0.001   -4684.096   -1136.464\n",
      "x280        8260.0559   3708.939      2.227      0.026     987.257    1.55e+04\n",
      "x281         918.6570   1060.903      0.866      0.387   -1161.651    2998.965\n",
      "x282         754.6465   1364.796      0.553      0.580   -1921.560    3430.853\n",
      "x283       -5266.0146   2218.840     -2.373      0.018   -9616.902    -915.127\n",
      "x284       -1.251e+04   2279.313     -5.486      0.000    -1.7e+04   -8035.759\n",
      "x285       -5754.4422   1041.579     -5.525      0.000   -7796.859   -3712.025\n",
      "x286       -6546.6744   3699.412     -1.770      0.077   -1.38e+04     707.445\n",
      "x287         2.18e+04   3705.220      5.882      0.000    1.45e+04    2.91e+04\n",
      "x288       -3748.3912   3626.938     -1.033      0.301   -1.09e+04    3363.614\n",
      "x289        9776.1721   1799.852      5.432      0.000    6246.870    1.33e+04\n",
      "x290        4213.3417   2051.469      2.054      0.040     190.648    8236.035\n",
      "x291       -3156.7558    829.898     -3.804      0.000   -4784.090   -1529.422\n",
      "x292        2236.6732   2084.259      1.073      0.283   -1850.318    6323.665\n",
      "x293       -8821.4738   1485.476     -5.938      0.000   -1.17e+04   -5908.628\n",
      "x294        -477.4512   2648.959     -0.180      0.857   -5671.754    4716.852\n",
      "x295        3411.9555   1152.146      2.961      0.003    1152.731    5671.180\n",
      "x296       -8384.3138   1284.798     -6.526      0.000   -1.09e+04   -5864.974\n",
      "x297       -5625.7450    985.588     -5.708      0.000   -7558.368   -3693.122\n",
      "x298       -2298.0504   2486.451     -0.924      0.355   -7173.694    2577.593\n",
      "x299         716.5775   3386.316      0.212      0.832   -5923.596    7356.751\n",
      "x300        1088.1878   1368.515      0.795      0.427   -1595.311    3771.687\n",
      "x301       -9469.4167   1810.965     -5.229      0.000    -1.3e+04   -5918.323\n",
      "x302       -3372.3467   2339.153     -1.442      0.150   -7959.155    1214.461\n",
      "x303       -4240.1606   1790.028     -2.369      0.018   -7750.198    -730.123\n",
      "x304       -1.186e+04   1200.415     -9.883      0.000   -1.42e+04   -9510.153\n",
      "x305       -2654.9295    876.782     -3.028      0.002   -4374.197    -935.662\n",
      "x306        1600.0956   1024.241      1.562      0.118    -408.322    3608.513\n",
      "x307       -7567.8813   2129.211     -3.554      0.000   -1.17e+04   -3392.746\n",
      "x308        -922.4683   2668.588     -0.346      0.730   -6155.260    4310.323\n",
      "x309        4733.4819   3673.466      1.289      0.198   -2469.760    1.19e+04\n",
      "x310       -8245.6716   1587.793     -5.193      0.000   -1.14e+04   -5132.193\n",
      "x311       -4576.2209   1428.634     -3.203      0.001   -7377.606   -1774.836\n",
      "x312       -3802.3659   2559.672     -1.485      0.138   -8821.586    1216.854\n",
      "x313       -2796.8433   2630.253     -1.063      0.288   -7954.465    2360.779\n",
      "x314       -3071.2397   3725.766     -0.824      0.410   -1.04e+04    4234.556\n",
      "x315        1.176e+04   3523.501      3.338      0.001    4850.774    1.87e+04\n",
      "x316        5937.8848    689.125      8.617      0.000    4586.590    7289.179\n",
      "x317         552.2977    933.733      0.591      0.554   -1278.644    2383.239\n",
      "x318       -1.055e+04   1393.221     -7.569      0.000   -1.33e+04   -7813.171\n",
      "x319       -1.021e+04   2191.970     -4.657      0.000   -1.45e+04   -5910.823\n",
      "x320       -6567.1636    945.057     -6.949      0.000   -8420.310   -4714.017\n",
      "x321        1.777e+04   2639.805      6.732      0.000    1.26e+04    2.29e+04\n",
      "x322       -2046.0455   1122.963     -1.822      0.069   -4248.047     155.956\n",
      "x323       -5348.9045   1332.019     -4.016      0.000   -7960.841   -2736.968\n",
      "x324       -2441.4906   1235.155     -1.977      0.048   -4863.486     -19.495\n",
      "x325        2297.6693   1445.809      1.589      0.112    -537.395    5132.733\n",
      "x326       -4769.6416   3339.901     -1.428      0.153   -1.13e+04    1779.517\n",
      "x327       -8148.1247   1368.206     -5.955      0.000   -1.08e+04   -5465.230\n",
      "x328       -9670.1729   1965.757     -4.919      0.000   -1.35e+04   -5815.550\n",
      "x329        5715.3941   3602.435      1.587      0.113   -1348.563    1.28e+04\n",
      "x330       -4175.9754   3602.958     -1.159      0.247   -1.12e+04    2889.008\n",
      "x331        6301.2298   1582.119      3.983      0.000    3198.878    9403.581\n",
      "x332        8216.8895   2485.920      3.305      0.001    3342.287    1.31e+04\n",
      "x333        6726.8369   2731.763      2.462      0.014    1370.166    1.21e+04\n",
      "x334        3568.5155    299.824     11.902      0.000    2980.596    4156.435\n",
      "x335        4796.5263    342.915     13.988      0.000    4124.110    5468.942\n",
      "x336        3424.4928    396.858      8.629      0.000    2646.300    4202.686\n",
      "x337        2667.6026    283.342      9.415      0.000    2112.002    3223.204\n",
      "x338        1590.0745    308.241      5.159      0.000     985.649    2194.500\n",
      "x339         682.8719    325.629      2.097      0.036      44.352    1321.392\n",
      "x340        7445.1785    997.657      7.463      0.000    5488.889    9401.467\n",
      "x341       -1605.0139   1257.380     -1.276      0.202   -4070.591     860.563\n",
      "x342       -3258.4632    608.811     -5.352      0.000   -4452.271   -2064.655\n",
      "x343         612.8757    408.944      1.499      0.134    -189.016    1414.767\n",
      "x344        5170.4647    550.138      9.398      0.000    4091.709    6249.221\n",
      "x345         835.8942   1170.411      0.714      0.475   -1459.147    3130.936\n",
      "x346         -51.7208    501.820     -0.103      0.918   -1035.733     932.291\n",
      "x347       -1606.6223   1269.341     -1.266      0.206   -4095.653     882.409\n",
      "x348        1643.3609    525.484      3.127      0.002     612.948    2673.773\n",
      "x349        9149.1437    636.421     14.376      0.000    7901.195    1.04e+04\n",
      "x350       -1605.0139   1257.380     -1.276      0.202   -4070.591     860.563\n",
      "x351        1335.5189     55.812     23.929      0.000    1226.078    1444.960\n",
      "x352        3273.0239    352.801      9.277      0.000    2581.222    3964.826\n",
      "x353        2121.2958    196.539     10.793      0.000    1735.905    2506.686\n",
      "==============================================================================\n",
      "Omnibus:                     1026.323   Durbin-Watson:                   1.948\n",
      "Prob(Omnibus):                  0.000   Jarque-Bera (JB):             8294.548\n",
      "Skew:                           1.460   Prob(JB):                         0.00\n",
      "Kurtosis:                      10.773   Cond. No.                     5.13e+17\n",
      "==============================================================================\n",
      "\n",
      "Notes:\n",
      "[1] Standard Errors assume that the covariance matrix of the errors is correctly specified.\n",
      "[2] The smallest eigenvalue is 9.95e-31. This might indicate that there are\n",
      "strong multicollinearity problems or that the design matrix is singular.\n"
     ]
    }
   ],
   "source": [
    "X_with_const = sm.add_constant(X_trans)\n",
    "\n",
    "# Fit OLS regression model\n",
    "model = sm.OLS(y, X_with_const).fit()\n",
    "\n",
    "# Print regression summary\n",
    "print(model.summary())\n",
    "\n"
   ]
  },
  {
   "cell_type": "markdown",
   "id": "e39ccc24",
   "metadata": {},
   "source": [
    "### F) Model Fitting"
   ]
  },
  {
   "cell_type": "markdown",
   "id": "9bc9bfc5",
   "metadata": {},
   "source": [
    "#### Random Forest Regressor"
   ]
  },
  {
   "cell_type": "code",
   "execution_count": 43,
   "id": "55c60039",
   "metadata": {},
   "outputs": [],
   "source": [
    "rf_model = RandomForestRegressor(random_state=42)\n",
    "\n",
    "# Create the full pipeline\n",
    "rf_pipeline = Pipeline([\n",
    "    ('preprocessor', preprocessor),\n",
    "    ('model', rf_model)\n",
    "])"
   ]
  },
  {
   "cell_type": "code",
   "execution_count": 44,
   "id": "b2d5f469",
   "metadata": {
    "scrolled": false
   },
   "outputs": [
    {
     "data": {
      "text/html": [
       "<style>#sk-container-id-1 {color: black;}#sk-container-id-1 pre{padding: 0;}#sk-container-id-1 div.sk-toggleable {background-color: white;}#sk-container-id-1 label.sk-toggleable__label {cursor: pointer;display: block;width: 100%;margin-bottom: 0;padding: 0.3em;box-sizing: border-box;text-align: center;}#sk-container-id-1 label.sk-toggleable__label-arrow:before {content: \"▸\";float: left;margin-right: 0.25em;color: #696969;}#sk-container-id-1 label.sk-toggleable__label-arrow:hover:before {color: black;}#sk-container-id-1 div.sk-estimator:hover label.sk-toggleable__label-arrow:before {color: black;}#sk-container-id-1 div.sk-toggleable__content {max-height: 0;max-width: 0;overflow: hidden;text-align: left;background-color: #f0f8ff;}#sk-container-id-1 div.sk-toggleable__content pre {margin: 0.2em;color: black;border-radius: 0.25em;background-color: #f0f8ff;}#sk-container-id-1 input.sk-toggleable__control:checked~div.sk-toggleable__content {max-height: 200px;max-width: 100%;overflow: auto;}#sk-container-id-1 input.sk-toggleable__control:checked~label.sk-toggleable__label-arrow:before {content: \"▾\";}#sk-container-id-1 div.sk-estimator input.sk-toggleable__control:checked~label.sk-toggleable__label {background-color: #d4ebff;}#sk-container-id-1 div.sk-label input.sk-toggleable__control:checked~label.sk-toggleable__label {background-color: #d4ebff;}#sk-container-id-1 input.sk-hidden--visually {border: 0;clip: rect(1px 1px 1px 1px);clip: rect(1px, 1px, 1px, 1px);height: 1px;margin: -1px;overflow: hidden;padding: 0;position: absolute;width: 1px;}#sk-container-id-1 div.sk-estimator {font-family: monospace;background-color: #f0f8ff;border: 1px dotted black;border-radius: 0.25em;box-sizing: border-box;margin-bottom: 0.5em;}#sk-container-id-1 div.sk-estimator:hover {background-color: #d4ebff;}#sk-container-id-1 div.sk-parallel-item::after {content: \"\";width: 100%;border-bottom: 1px solid gray;flex-grow: 1;}#sk-container-id-1 div.sk-label:hover label.sk-toggleable__label {background-color: #d4ebff;}#sk-container-id-1 div.sk-serial::before {content: \"\";position: absolute;border-left: 1px solid gray;box-sizing: border-box;top: 0;bottom: 0;left: 50%;z-index: 0;}#sk-container-id-1 div.sk-serial {display: flex;flex-direction: column;align-items: center;background-color: white;padding-right: 0.2em;padding-left: 0.2em;position: relative;}#sk-container-id-1 div.sk-item {position: relative;z-index: 1;}#sk-container-id-1 div.sk-parallel {display: flex;align-items: stretch;justify-content: center;background-color: white;position: relative;}#sk-container-id-1 div.sk-item::before, #sk-container-id-1 div.sk-parallel-item::before {content: \"\";position: absolute;border-left: 1px solid gray;box-sizing: border-box;top: 0;bottom: 0;left: 50%;z-index: -1;}#sk-container-id-1 div.sk-parallel-item {display: flex;flex-direction: column;z-index: 1;position: relative;background-color: white;}#sk-container-id-1 div.sk-parallel-item:first-child::after {align-self: flex-end;width: 50%;}#sk-container-id-1 div.sk-parallel-item:last-child::after {align-self: flex-start;width: 50%;}#sk-container-id-1 div.sk-parallel-item:only-child::after {width: 0;}#sk-container-id-1 div.sk-dashed-wrapped {border: 1px dashed gray;margin: 0 0.4em 0.5em 0.4em;box-sizing: border-box;padding-bottom: 0.4em;background-color: white;}#sk-container-id-1 div.sk-label label {font-family: monospace;font-weight: bold;display: inline-block;line-height: 1.2em;}#sk-container-id-1 div.sk-label-container {text-align: center;}#sk-container-id-1 div.sk-container {/* jupyter's `normalize.less` sets `[hidden] { display: none; }` but bootstrap.min.css set `[hidden] { display: none !important; }` so we also need the `!important` here to be able to override the default hidden behavior on the sphinx rendered scikit-learn.org. See: https://github.com/scikit-learn/scikit-learn/issues/21755 */display: inline-block !important;position: relative;}#sk-container-id-1 div.sk-text-repr-fallback {display: none;}</style><div id=\"sk-container-id-1\" class=\"sk-top-container\"><div class=\"sk-text-repr-fallback\"><pre>Pipeline(steps=[(&#x27;preprocessor&#x27;,\n",
       "                 ColumnTransformer(transformers=[(&#x27;num&#x27;, StandardScaler(),\n",
       "                                                  [&#x27;miles_driven&#x27;, &#x27;avg_mpg&#x27;]),\n",
       "                                                 (&#x27;cat_label&#x27;,\n",
       "                                                  OneHotEncoder(handle_unknown=&#x27;ignore&#x27;,\n",
       "                                                                sparse=False),\n",
       "                                                  [&#x27;type&#x27;, &#x27;make&#x27;, &#x27;model&#x27;,\n",
       "                                                   &#x27;transmission&#x27;, &#x27;drive_type&#x27;,\n",
       "                                                   &#x27;fuel&#x27;, &#x27;engine&#x27;]),\n",
       "                                                 (&#x27;cat_ordinal&#x27;,\n",
       "                                                  OrdinalEncoder(),\n",
       "                                                  [&#x27;year&#x27;, &#x27;doors&#x27;]),\n",
       "                                                 (&#x27;binary&#x27;, &#x27;passthrough&#x27;,\n",
       "                                                  [&#x27;lux_category&#x27;])])),\n",
       "                (&#x27;model&#x27;, RandomForestRegressor(random_state=42))])</pre><b>In a Jupyter environment, please rerun this cell to show the HTML representation or trust the notebook. <br />On GitHub, the HTML representation is unable to render, please try loading this page with nbviewer.org.</b></div><div class=\"sk-container\" hidden><div class=\"sk-item sk-dashed-wrapped\"><div class=\"sk-label-container\"><div class=\"sk-label sk-toggleable\"><input class=\"sk-toggleable__control sk-hidden--visually\" id=\"sk-estimator-id-1\" type=\"checkbox\" ><label for=\"sk-estimator-id-1\" class=\"sk-toggleable__label sk-toggleable__label-arrow\">Pipeline</label><div class=\"sk-toggleable__content\"><pre>Pipeline(steps=[(&#x27;preprocessor&#x27;,\n",
       "                 ColumnTransformer(transformers=[(&#x27;num&#x27;, StandardScaler(),\n",
       "                                                  [&#x27;miles_driven&#x27;, &#x27;avg_mpg&#x27;]),\n",
       "                                                 (&#x27;cat_label&#x27;,\n",
       "                                                  OneHotEncoder(handle_unknown=&#x27;ignore&#x27;,\n",
       "                                                                sparse=False),\n",
       "                                                  [&#x27;type&#x27;, &#x27;make&#x27;, &#x27;model&#x27;,\n",
       "                                                   &#x27;transmission&#x27;, &#x27;drive_type&#x27;,\n",
       "                                                   &#x27;fuel&#x27;, &#x27;engine&#x27;]),\n",
       "                                                 (&#x27;cat_ordinal&#x27;,\n",
       "                                                  OrdinalEncoder(),\n",
       "                                                  [&#x27;year&#x27;, &#x27;doors&#x27;]),\n",
       "                                                 (&#x27;binary&#x27;, &#x27;passthrough&#x27;,\n",
       "                                                  [&#x27;lux_category&#x27;])])),\n",
       "                (&#x27;model&#x27;, RandomForestRegressor(random_state=42))])</pre></div></div></div><div class=\"sk-serial\"><div class=\"sk-item sk-dashed-wrapped\"><div class=\"sk-label-container\"><div class=\"sk-label sk-toggleable\"><input class=\"sk-toggleable__control sk-hidden--visually\" id=\"sk-estimator-id-2\" type=\"checkbox\" ><label for=\"sk-estimator-id-2\" class=\"sk-toggleable__label sk-toggleable__label-arrow\">preprocessor: ColumnTransformer</label><div class=\"sk-toggleable__content\"><pre>ColumnTransformer(transformers=[(&#x27;num&#x27;, StandardScaler(),\n",
       "                                 [&#x27;miles_driven&#x27;, &#x27;avg_mpg&#x27;]),\n",
       "                                (&#x27;cat_label&#x27;,\n",
       "                                 OneHotEncoder(handle_unknown=&#x27;ignore&#x27;,\n",
       "                                               sparse=False),\n",
       "                                 [&#x27;type&#x27;, &#x27;make&#x27;, &#x27;model&#x27;, &#x27;transmission&#x27;,\n",
       "                                  &#x27;drive_type&#x27;, &#x27;fuel&#x27;, &#x27;engine&#x27;]),\n",
       "                                (&#x27;cat_ordinal&#x27;, OrdinalEncoder(),\n",
       "                                 [&#x27;year&#x27;, &#x27;doors&#x27;]),\n",
       "                                (&#x27;binary&#x27;, &#x27;passthrough&#x27;, [&#x27;lux_category&#x27;])])</pre></div></div></div><div class=\"sk-parallel\"><div class=\"sk-parallel-item\"><div class=\"sk-item\"><div class=\"sk-label-container\"><div class=\"sk-label sk-toggleable\"><input class=\"sk-toggleable__control sk-hidden--visually\" id=\"sk-estimator-id-3\" type=\"checkbox\" ><label for=\"sk-estimator-id-3\" class=\"sk-toggleable__label sk-toggleable__label-arrow\">num</label><div class=\"sk-toggleable__content\"><pre>[&#x27;miles_driven&#x27;, &#x27;avg_mpg&#x27;]</pre></div></div></div><div class=\"sk-serial\"><div class=\"sk-item\"><div class=\"sk-estimator sk-toggleable\"><input class=\"sk-toggleable__control sk-hidden--visually\" id=\"sk-estimator-id-4\" type=\"checkbox\" ><label for=\"sk-estimator-id-4\" class=\"sk-toggleable__label sk-toggleable__label-arrow\">StandardScaler</label><div class=\"sk-toggleable__content\"><pre>StandardScaler()</pre></div></div></div></div></div></div><div class=\"sk-parallel-item\"><div class=\"sk-item\"><div class=\"sk-label-container\"><div class=\"sk-label sk-toggleable\"><input class=\"sk-toggleable__control sk-hidden--visually\" id=\"sk-estimator-id-5\" type=\"checkbox\" ><label for=\"sk-estimator-id-5\" class=\"sk-toggleable__label sk-toggleable__label-arrow\">cat_label</label><div class=\"sk-toggleable__content\"><pre>[&#x27;type&#x27;, &#x27;make&#x27;, &#x27;model&#x27;, &#x27;transmission&#x27;, &#x27;drive_type&#x27;, &#x27;fuel&#x27;, &#x27;engine&#x27;]</pre></div></div></div><div class=\"sk-serial\"><div class=\"sk-item\"><div class=\"sk-estimator sk-toggleable\"><input class=\"sk-toggleable__control sk-hidden--visually\" id=\"sk-estimator-id-6\" type=\"checkbox\" ><label for=\"sk-estimator-id-6\" class=\"sk-toggleable__label sk-toggleable__label-arrow\">OneHotEncoder</label><div class=\"sk-toggleable__content\"><pre>OneHotEncoder(handle_unknown=&#x27;ignore&#x27;, sparse=False)</pre></div></div></div></div></div></div><div class=\"sk-parallel-item\"><div class=\"sk-item\"><div class=\"sk-label-container\"><div class=\"sk-label sk-toggleable\"><input class=\"sk-toggleable__control sk-hidden--visually\" id=\"sk-estimator-id-7\" type=\"checkbox\" ><label for=\"sk-estimator-id-7\" class=\"sk-toggleable__label sk-toggleable__label-arrow\">cat_ordinal</label><div class=\"sk-toggleable__content\"><pre>[&#x27;year&#x27;, &#x27;doors&#x27;]</pre></div></div></div><div class=\"sk-serial\"><div class=\"sk-item\"><div class=\"sk-estimator sk-toggleable\"><input class=\"sk-toggleable__control sk-hidden--visually\" id=\"sk-estimator-id-8\" type=\"checkbox\" ><label for=\"sk-estimator-id-8\" class=\"sk-toggleable__label sk-toggleable__label-arrow\">OrdinalEncoder</label><div class=\"sk-toggleable__content\"><pre>OrdinalEncoder()</pre></div></div></div></div></div></div><div class=\"sk-parallel-item\"><div class=\"sk-item\"><div class=\"sk-label-container\"><div class=\"sk-label sk-toggleable\"><input class=\"sk-toggleable__control sk-hidden--visually\" id=\"sk-estimator-id-9\" type=\"checkbox\" ><label for=\"sk-estimator-id-9\" class=\"sk-toggleable__label sk-toggleable__label-arrow\">binary</label><div class=\"sk-toggleable__content\"><pre>[&#x27;lux_category&#x27;]</pre></div></div></div><div class=\"sk-serial\"><div class=\"sk-item\"><div class=\"sk-estimator sk-toggleable\"><input class=\"sk-toggleable__control sk-hidden--visually\" id=\"sk-estimator-id-10\" type=\"checkbox\" ><label for=\"sk-estimator-id-10\" class=\"sk-toggleable__label sk-toggleable__label-arrow\">passthrough</label><div class=\"sk-toggleable__content\"><pre>passthrough</pre></div></div></div></div></div></div></div></div><div class=\"sk-item\"><div class=\"sk-estimator sk-toggleable\"><input class=\"sk-toggleable__control sk-hidden--visually\" id=\"sk-estimator-id-11\" type=\"checkbox\" ><label for=\"sk-estimator-id-11\" class=\"sk-toggleable__label sk-toggleable__label-arrow\">RandomForestRegressor</label><div class=\"sk-toggleable__content\"><pre>RandomForestRegressor(random_state=42)</pre></div></div></div></div></div></div></div>"
      ],
      "text/plain": [
       "Pipeline(steps=[('preprocessor',\n",
       "                 ColumnTransformer(transformers=[('num', StandardScaler(),\n",
       "                                                  ['miles_driven', 'avg_mpg']),\n",
       "                                                 ('cat_label',\n",
       "                                                  OneHotEncoder(handle_unknown='ignore',\n",
       "                                                                sparse=False),\n",
       "                                                  ['type', 'make', 'model',\n",
       "                                                   'transmission', 'drive_type',\n",
       "                                                   'fuel', 'engine']),\n",
       "                                                 ('cat_ordinal',\n",
       "                                                  OrdinalEncoder(),\n",
       "                                                  ['year', 'doors']),\n",
       "                                                 ('binary', 'passthrough',\n",
       "                                                  ['lux_category'])])),\n",
       "                ('model', RandomForestRegressor(random_state=42))])"
      ]
     },
     "execution_count": 44,
     "metadata": {},
     "output_type": "execute_result"
    }
   ],
   "source": [
    "# Fit the pipeline on the training data\n",
    "rf_pipeline.fit(X_train, y_train)"
   ]
  },
  {
   "cell_type": "markdown",
   "id": "54eb1e22",
   "metadata": {},
   "source": [
    "#### MLP Regressor"
   ]
  },
  {
   "cell_type": "code",
   "execution_count": 45,
   "id": "889798e3",
   "metadata": {},
   "outputs": [],
   "source": [
    "mlp_model = MLPRegressor(hidden_layer_sizes=(100, 50), max_iter=1000, random_state=42)\n",
    "\n",
    "mlp_pipeline = Pipeline([\n",
    "    ('preprocessor', preprocessor),\n",
    "    ('model', mlp_model)\n",
    "])"
   ]
  },
  {
   "cell_type": "code",
   "execution_count": 46,
   "id": "cb79dee6",
   "metadata": {},
   "outputs": [
    {
     "data": {
      "text/html": [
       "<style>#sk-container-id-2 {color: black;}#sk-container-id-2 pre{padding: 0;}#sk-container-id-2 div.sk-toggleable {background-color: white;}#sk-container-id-2 label.sk-toggleable__label {cursor: pointer;display: block;width: 100%;margin-bottom: 0;padding: 0.3em;box-sizing: border-box;text-align: center;}#sk-container-id-2 label.sk-toggleable__label-arrow:before {content: \"▸\";float: left;margin-right: 0.25em;color: #696969;}#sk-container-id-2 label.sk-toggleable__label-arrow:hover:before {color: black;}#sk-container-id-2 div.sk-estimator:hover label.sk-toggleable__label-arrow:before {color: black;}#sk-container-id-2 div.sk-toggleable__content {max-height: 0;max-width: 0;overflow: hidden;text-align: left;background-color: #f0f8ff;}#sk-container-id-2 div.sk-toggleable__content pre {margin: 0.2em;color: black;border-radius: 0.25em;background-color: #f0f8ff;}#sk-container-id-2 input.sk-toggleable__control:checked~div.sk-toggleable__content {max-height: 200px;max-width: 100%;overflow: auto;}#sk-container-id-2 input.sk-toggleable__control:checked~label.sk-toggleable__label-arrow:before {content: \"▾\";}#sk-container-id-2 div.sk-estimator input.sk-toggleable__control:checked~label.sk-toggleable__label {background-color: #d4ebff;}#sk-container-id-2 div.sk-label input.sk-toggleable__control:checked~label.sk-toggleable__label {background-color: #d4ebff;}#sk-container-id-2 input.sk-hidden--visually {border: 0;clip: rect(1px 1px 1px 1px);clip: rect(1px, 1px, 1px, 1px);height: 1px;margin: -1px;overflow: hidden;padding: 0;position: absolute;width: 1px;}#sk-container-id-2 div.sk-estimator {font-family: monospace;background-color: #f0f8ff;border: 1px dotted black;border-radius: 0.25em;box-sizing: border-box;margin-bottom: 0.5em;}#sk-container-id-2 div.sk-estimator:hover {background-color: #d4ebff;}#sk-container-id-2 div.sk-parallel-item::after {content: \"\";width: 100%;border-bottom: 1px solid gray;flex-grow: 1;}#sk-container-id-2 div.sk-label:hover label.sk-toggleable__label {background-color: #d4ebff;}#sk-container-id-2 div.sk-serial::before {content: \"\";position: absolute;border-left: 1px solid gray;box-sizing: border-box;top: 0;bottom: 0;left: 50%;z-index: 0;}#sk-container-id-2 div.sk-serial {display: flex;flex-direction: column;align-items: center;background-color: white;padding-right: 0.2em;padding-left: 0.2em;position: relative;}#sk-container-id-2 div.sk-item {position: relative;z-index: 1;}#sk-container-id-2 div.sk-parallel {display: flex;align-items: stretch;justify-content: center;background-color: white;position: relative;}#sk-container-id-2 div.sk-item::before, #sk-container-id-2 div.sk-parallel-item::before {content: \"\";position: absolute;border-left: 1px solid gray;box-sizing: border-box;top: 0;bottom: 0;left: 50%;z-index: -1;}#sk-container-id-2 div.sk-parallel-item {display: flex;flex-direction: column;z-index: 1;position: relative;background-color: white;}#sk-container-id-2 div.sk-parallel-item:first-child::after {align-self: flex-end;width: 50%;}#sk-container-id-2 div.sk-parallel-item:last-child::after {align-self: flex-start;width: 50%;}#sk-container-id-2 div.sk-parallel-item:only-child::after {width: 0;}#sk-container-id-2 div.sk-dashed-wrapped {border: 1px dashed gray;margin: 0 0.4em 0.5em 0.4em;box-sizing: border-box;padding-bottom: 0.4em;background-color: white;}#sk-container-id-2 div.sk-label label {font-family: monospace;font-weight: bold;display: inline-block;line-height: 1.2em;}#sk-container-id-2 div.sk-label-container {text-align: center;}#sk-container-id-2 div.sk-container {/* jupyter's `normalize.less` sets `[hidden] { display: none; }` but bootstrap.min.css set `[hidden] { display: none !important; }` so we also need the `!important` here to be able to override the default hidden behavior on the sphinx rendered scikit-learn.org. See: https://github.com/scikit-learn/scikit-learn/issues/21755 */display: inline-block !important;position: relative;}#sk-container-id-2 div.sk-text-repr-fallback {display: none;}</style><div id=\"sk-container-id-2\" class=\"sk-top-container\"><div class=\"sk-text-repr-fallback\"><pre>Pipeline(steps=[(&#x27;preprocessor&#x27;,\n",
       "                 ColumnTransformer(transformers=[(&#x27;num&#x27;, StandardScaler(),\n",
       "                                                  [&#x27;miles_driven&#x27;, &#x27;avg_mpg&#x27;]),\n",
       "                                                 (&#x27;cat_label&#x27;,\n",
       "                                                  OneHotEncoder(handle_unknown=&#x27;ignore&#x27;,\n",
       "                                                                sparse=False),\n",
       "                                                  [&#x27;type&#x27;, &#x27;make&#x27;, &#x27;model&#x27;,\n",
       "                                                   &#x27;transmission&#x27;, &#x27;drive_type&#x27;,\n",
       "                                                   &#x27;fuel&#x27;, &#x27;engine&#x27;]),\n",
       "                                                 (&#x27;cat_ordinal&#x27;,\n",
       "                                                  OrdinalEncoder(),\n",
       "                                                  [&#x27;year&#x27;, &#x27;doors&#x27;]),\n",
       "                                                 (&#x27;binary&#x27;, &#x27;passthrough&#x27;,\n",
       "                                                  [&#x27;lux_category&#x27;])])),\n",
       "                (&#x27;model&#x27;,\n",
       "                 MLPRegressor(hidden_layer_sizes=(100, 50), max_iter=1000,\n",
       "                              random_state=42))])</pre><b>In a Jupyter environment, please rerun this cell to show the HTML representation or trust the notebook. <br />On GitHub, the HTML representation is unable to render, please try loading this page with nbviewer.org.</b></div><div class=\"sk-container\" hidden><div class=\"sk-item sk-dashed-wrapped\"><div class=\"sk-label-container\"><div class=\"sk-label sk-toggleable\"><input class=\"sk-toggleable__control sk-hidden--visually\" id=\"sk-estimator-id-12\" type=\"checkbox\" ><label for=\"sk-estimator-id-12\" class=\"sk-toggleable__label sk-toggleable__label-arrow\">Pipeline</label><div class=\"sk-toggleable__content\"><pre>Pipeline(steps=[(&#x27;preprocessor&#x27;,\n",
       "                 ColumnTransformer(transformers=[(&#x27;num&#x27;, StandardScaler(),\n",
       "                                                  [&#x27;miles_driven&#x27;, &#x27;avg_mpg&#x27;]),\n",
       "                                                 (&#x27;cat_label&#x27;,\n",
       "                                                  OneHotEncoder(handle_unknown=&#x27;ignore&#x27;,\n",
       "                                                                sparse=False),\n",
       "                                                  [&#x27;type&#x27;, &#x27;make&#x27;, &#x27;model&#x27;,\n",
       "                                                   &#x27;transmission&#x27;, &#x27;drive_type&#x27;,\n",
       "                                                   &#x27;fuel&#x27;, &#x27;engine&#x27;]),\n",
       "                                                 (&#x27;cat_ordinal&#x27;,\n",
       "                                                  OrdinalEncoder(),\n",
       "                                                  [&#x27;year&#x27;, &#x27;doors&#x27;]),\n",
       "                                                 (&#x27;binary&#x27;, &#x27;passthrough&#x27;,\n",
       "                                                  [&#x27;lux_category&#x27;])])),\n",
       "                (&#x27;model&#x27;,\n",
       "                 MLPRegressor(hidden_layer_sizes=(100, 50), max_iter=1000,\n",
       "                              random_state=42))])</pre></div></div></div><div class=\"sk-serial\"><div class=\"sk-item sk-dashed-wrapped\"><div class=\"sk-label-container\"><div class=\"sk-label sk-toggleable\"><input class=\"sk-toggleable__control sk-hidden--visually\" id=\"sk-estimator-id-13\" type=\"checkbox\" ><label for=\"sk-estimator-id-13\" class=\"sk-toggleable__label sk-toggleable__label-arrow\">preprocessor: ColumnTransformer</label><div class=\"sk-toggleable__content\"><pre>ColumnTransformer(transformers=[(&#x27;num&#x27;, StandardScaler(),\n",
       "                                 [&#x27;miles_driven&#x27;, &#x27;avg_mpg&#x27;]),\n",
       "                                (&#x27;cat_label&#x27;,\n",
       "                                 OneHotEncoder(handle_unknown=&#x27;ignore&#x27;,\n",
       "                                               sparse=False),\n",
       "                                 [&#x27;type&#x27;, &#x27;make&#x27;, &#x27;model&#x27;, &#x27;transmission&#x27;,\n",
       "                                  &#x27;drive_type&#x27;, &#x27;fuel&#x27;, &#x27;engine&#x27;]),\n",
       "                                (&#x27;cat_ordinal&#x27;, OrdinalEncoder(),\n",
       "                                 [&#x27;year&#x27;, &#x27;doors&#x27;]),\n",
       "                                (&#x27;binary&#x27;, &#x27;passthrough&#x27;, [&#x27;lux_category&#x27;])])</pre></div></div></div><div class=\"sk-parallel\"><div class=\"sk-parallel-item\"><div class=\"sk-item\"><div class=\"sk-label-container\"><div class=\"sk-label sk-toggleable\"><input class=\"sk-toggleable__control sk-hidden--visually\" id=\"sk-estimator-id-14\" type=\"checkbox\" ><label for=\"sk-estimator-id-14\" class=\"sk-toggleable__label sk-toggleable__label-arrow\">num</label><div class=\"sk-toggleable__content\"><pre>[&#x27;miles_driven&#x27;, &#x27;avg_mpg&#x27;]</pre></div></div></div><div class=\"sk-serial\"><div class=\"sk-item\"><div class=\"sk-estimator sk-toggleable\"><input class=\"sk-toggleable__control sk-hidden--visually\" id=\"sk-estimator-id-15\" type=\"checkbox\" ><label for=\"sk-estimator-id-15\" class=\"sk-toggleable__label sk-toggleable__label-arrow\">StandardScaler</label><div class=\"sk-toggleable__content\"><pre>StandardScaler()</pre></div></div></div></div></div></div><div class=\"sk-parallel-item\"><div class=\"sk-item\"><div class=\"sk-label-container\"><div class=\"sk-label sk-toggleable\"><input class=\"sk-toggleable__control sk-hidden--visually\" id=\"sk-estimator-id-16\" type=\"checkbox\" ><label for=\"sk-estimator-id-16\" class=\"sk-toggleable__label sk-toggleable__label-arrow\">cat_label</label><div class=\"sk-toggleable__content\"><pre>[&#x27;type&#x27;, &#x27;make&#x27;, &#x27;model&#x27;, &#x27;transmission&#x27;, &#x27;drive_type&#x27;, &#x27;fuel&#x27;, &#x27;engine&#x27;]</pre></div></div></div><div class=\"sk-serial\"><div class=\"sk-item\"><div class=\"sk-estimator sk-toggleable\"><input class=\"sk-toggleable__control sk-hidden--visually\" id=\"sk-estimator-id-17\" type=\"checkbox\" ><label for=\"sk-estimator-id-17\" class=\"sk-toggleable__label sk-toggleable__label-arrow\">OneHotEncoder</label><div class=\"sk-toggleable__content\"><pre>OneHotEncoder(handle_unknown=&#x27;ignore&#x27;, sparse=False)</pre></div></div></div></div></div></div><div class=\"sk-parallel-item\"><div class=\"sk-item\"><div class=\"sk-label-container\"><div class=\"sk-label sk-toggleable\"><input class=\"sk-toggleable__control sk-hidden--visually\" id=\"sk-estimator-id-18\" type=\"checkbox\" ><label for=\"sk-estimator-id-18\" class=\"sk-toggleable__label sk-toggleable__label-arrow\">cat_ordinal</label><div class=\"sk-toggleable__content\"><pre>[&#x27;year&#x27;, &#x27;doors&#x27;]</pre></div></div></div><div class=\"sk-serial\"><div class=\"sk-item\"><div class=\"sk-estimator sk-toggleable\"><input class=\"sk-toggleable__control sk-hidden--visually\" id=\"sk-estimator-id-19\" type=\"checkbox\" ><label for=\"sk-estimator-id-19\" class=\"sk-toggleable__label sk-toggleable__label-arrow\">OrdinalEncoder</label><div class=\"sk-toggleable__content\"><pre>OrdinalEncoder()</pre></div></div></div></div></div></div><div class=\"sk-parallel-item\"><div class=\"sk-item\"><div class=\"sk-label-container\"><div class=\"sk-label sk-toggleable\"><input class=\"sk-toggleable__control sk-hidden--visually\" id=\"sk-estimator-id-20\" type=\"checkbox\" ><label for=\"sk-estimator-id-20\" class=\"sk-toggleable__label sk-toggleable__label-arrow\">binary</label><div class=\"sk-toggleable__content\"><pre>[&#x27;lux_category&#x27;]</pre></div></div></div><div class=\"sk-serial\"><div class=\"sk-item\"><div class=\"sk-estimator sk-toggleable\"><input class=\"sk-toggleable__control sk-hidden--visually\" id=\"sk-estimator-id-21\" type=\"checkbox\" ><label for=\"sk-estimator-id-21\" class=\"sk-toggleable__label sk-toggleable__label-arrow\">passthrough</label><div class=\"sk-toggleable__content\"><pre>passthrough</pre></div></div></div></div></div></div></div></div><div class=\"sk-item\"><div class=\"sk-estimator sk-toggleable\"><input class=\"sk-toggleable__control sk-hidden--visually\" id=\"sk-estimator-id-22\" type=\"checkbox\" ><label for=\"sk-estimator-id-22\" class=\"sk-toggleable__label sk-toggleable__label-arrow\">MLPRegressor</label><div class=\"sk-toggleable__content\"><pre>MLPRegressor(hidden_layer_sizes=(100, 50), max_iter=1000, random_state=42)</pre></div></div></div></div></div></div></div>"
      ],
      "text/plain": [
       "Pipeline(steps=[('preprocessor',\n",
       "                 ColumnTransformer(transformers=[('num', StandardScaler(),\n",
       "                                                  ['miles_driven', 'avg_mpg']),\n",
       "                                                 ('cat_label',\n",
       "                                                  OneHotEncoder(handle_unknown='ignore',\n",
       "                                                                sparse=False),\n",
       "                                                  ['type', 'make', 'model',\n",
       "                                                   'transmission', 'drive_type',\n",
       "                                                   'fuel', 'engine']),\n",
       "                                                 ('cat_ordinal',\n",
       "                                                  OrdinalEncoder(),\n",
       "                                                  ['year', 'doors']),\n",
       "                                                 ('binary', 'passthrough',\n",
       "                                                  ['lux_category'])])),\n",
       "                ('model',\n",
       "                 MLPRegressor(hidden_layer_sizes=(100, 50), max_iter=1000,\n",
       "                              random_state=42))])"
      ]
     },
     "execution_count": 46,
     "metadata": {},
     "output_type": "execute_result"
    }
   ],
   "source": [
    "mlp_pipeline.fit(X_train, y_train)"
   ]
  },
  {
   "cell_type": "markdown",
   "id": "258290af",
   "metadata": {},
   "source": [
    "#### Gradient Boosting Regressor"
   ]
  },
  {
   "cell_type": "code",
   "execution_count": 47,
   "id": "1a25b4d3",
   "metadata": {},
   "outputs": [],
   "source": [
    "gb_model = GradientBoostingRegressor(n_estimators=100, learning_rate=0.1, max_depth=3, random_state=42)\n",
    "\n",
    "gb_pipeline = Pipeline([\n",
    "    ('preprocessor', preprocessor),\n",
    "    ('model', gb_model)\n",
    "])"
   ]
  },
  {
   "cell_type": "code",
   "execution_count": 48,
   "id": "b9e6df8d",
   "metadata": {},
   "outputs": [
    {
     "data": {
      "text/html": [
       "<style>#sk-container-id-3 {color: black;}#sk-container-id-3 pre{padding: 0;}#sk-container-id-3 div.sk-toggleable {background-color: white;}#sk-container-id-3 label.sk-toggleable__label {cursor: pointer;display: block;width: 100%;margin-bottom: 0;padding: 0.3em;box-sizing: border-box;text-align: center;}#sk-container-id-3 label.sk-toggleable__label-arrow:before {content: \"▸\";float: left;margin-right: 0.25em;color: #696969;}#sk-container-id-3 label.sk-toggleable__label-arrow:hover:before {color: black;}#sk-container-id-3 div.sk-estimator:hover label.sk-toggleable__label-arrow:before {color: black;}#sk-container-id-3 div.sk-toggleable__content {max-height: 0;max-width: 0;overflow: hidden;text-align: left;background-color: #f0f8ff;}#sk-container-id-3 div.sk-toggleable__content pre {margin: 0.2em;color: black;border-radius: 0.25em;background-color: #f0f8ff;}#sk-container-id-3 input.sk-toggleable__control:checked~div.sk-toggleable__content {max-height: 200px;max-width: 100%;overflow: auto;}#sk-container-id-3 input.sk-toggleable__control:checked~label.sk-toggleable__label-arrow:before {content: \"▾\";}#sk-container-id-3 div.sk-estimator input.sk-toggleable__control:checked~label.sk-toggleable__label {background-color: #d4ebff;}#sk-container-id-3 div.sk-label input.sk-toggleable__control:checked~label.sk-toggleable__label {background-color: #d4ebff;}#sk-container-id-3 input.sk-hidden--visually {border: 0;clip: rect(1px 1px 1px 1px);clip: rect(1px, 1px, 1px, 1px);height: 1px;margin: -1px;overflow: hidden;padding: 0;position: absolute;width: 1px;}#sk-container-id-3 div.sk-estimator {font-family: monospace;background-color: #f0f8ff;border: 1px dotted black;border-radius: 0.25em;box-sizing: border-box;margin-bottom: 0.5em;}#sk-container-id-3 div.sk-estimator:hover {background-color: #d4ebff;}#sk-container-id-3 div.sk-parallel-item::after {content: \"\";width: 100%;border-bottom: 1px solid gray;flex-grow: 1;}#sk-container-id-3 div.sk-label:hover label.sk-toggleable__label {background-color: #d4ebff;}#sk-container-id-3 div.sk-serial::before {content: \"\";position: absolute;border-left: 1px solid gray;box-sizing: border-box;top: 0;bottom: 0;left: 50%;z-index: 0;}#sk-container-id-3 div.sk-serial {display: flex;flex-direction: column;align-items: center;background-color: white;padding-right: 0.2em;padding-left: 0.2em;position: relative;}#sk-container-id-3 div.sk-item {position: relative;z-index: 1;}#sk-container-id-3 div.sk-parallel {display: flex;align-items: stretch;justify-content: center;background-color: white;position: relative;}#sk-container-id-3 div.sk-item::before, #sk-container-id-3 div.sk-parallel-item::before {content: \"\";position: absolute;border-left: 1px solid gray;box-sizing: border-box;top: 0;bottom: 0;left: 50%;z-index: -1;}#sk-container-id-3 div.sk-parallel-item {display: flex;flex-direction: column;z-index: 1;position: relative;background-color: white;}#sk-container-id-3 div.sk-parallel-item:first-child::after {align-self: flex-end;width: 50%;}#sk-container-id-3 div.sk-parallel-item:last-child::after {align-self: flex-start;width: 50%;}#sk-container-id-3 div.sk-parallel-item:only-child::after {width: 0;}#sk-container-id-3 div.sk-dashed-wrapped {border: 1px dashed gray;margin: 0 0.4em 0.5em 0.4em;box-sizing: border-box;padding-bottom: 0.4em;background-color: white;}#sk-container-id-3 div.sk-label label {font-family: monospace;font-weight: bold;display: inline-block;line-height: 1.2em;}#sk-container-id-3 div.sk-label-container {text-align: center;}#sk-container-id-3 div.sk-container {/* jupyter's `normalize.less` sets `[hidden] { display: none; }` but bootstrap.min.css set `[hidden] { display: none !important; }` so we also need the `!important` here to be able to override the default hidden behavior on the sphinx rendered scikit-learn.org. See: https://github.com/scikit-learn/scikit-learn/issues/21755 */display: inline-block !important;position: relative;}#sk-container-id-3 div.sk-text-repr-fallback {display: none;}</style><div id=\"sk-container-id-3\" class=\"sk-top-container\"><div class=\"sk-text-repr-fallback\"><pre>Pipeline(steps=[(&#x27;preprocessor&#x27;,\n",
       "                 ColumnTransformer(transformers=[(&#x27;num&#x27;, StandardScaler(),\n",
       "                                                  [&#x27;miles_driven&#x27;, &#x27;avg_mpg&#x27;]),\n",
       "                                                 (&#x27;cat_label&#x27;,\n",
       "                                                  OneHotEncoder(handle_unknown=&#x27;ignore&#x27;,\n",
       "                                                                sparse=False),\n",
       "                                                  [&#x27;type&#x27;, &#x27;make&#x27;, &#x27;model&#x27;,\n",
       "                                                   &#x27;transmission&#x27;, &#x27;drive_type&#x27;,\n",
       "                                                   &#x27;fuel&#x27;, &#x27;engine&#x27;]),\n",
       "                                                 (&#x27;cat_ordinal&#x27;,\n",
       "                                                  OrdinalEncoder(),\n",
       "                                                  [&#x27;year&#x27;, &#x27;doors&#x27;]),\n",
       "                                                 (&#x27;binary&#x27;, &#x27;passthrough&#x27;,\n",
       "                                                  [&#x27;lux_category&#x27;])])),\n",
       "                (&#x27;model&#x27;, GradientBoostingRegressor(random_state=42))])</pre><b>In a Jupyter environment, please rerun this cell to show the HTML representation or trust the notebook. <br />On GitHub, the HTML representation is unable to render, please try loading this page with nbviewer.org.</b></div><div class=\"sk-container\" hidden><div class=\"sk-item sk-dashed-wrapped\"><div class=\"sk-label-container\"><div class=\"sk-label sk-toggleable\"><input class=\"sk-toggleable__control sk-hidden--visually\" id=\"sk-estimator-id-23\" type=\"checkbox\" ><label for=\"sk-estimator-id-23\" class=\"sk-toggleable__label sk-toggleable__label-arrow\">Pipeline</label><div class=\"sk-toggleable__content\"><pre>Pipeline(steps=[(&#x27;preprocessor&#x27;,\n",
       "                 ColumnTransformer(transformers=[(&#x27;num&#x27;, StandardScaler(),\n",
       "                                                  [&#x27;miles_driven&#x27;, &#x27;avg_mpg&#x27;]),\n",
       "                                                 (&#x27;cat_label&#x27;,\n",
       "                                                  OneHotEncoder(handle_unknown=&#x27;ignore&#x27;,\n",
       "                                                                sparse=False),\n",
       "                                                  [&#x27;type&#x27;, &#x27;make&#x27;, &#x27;model&#x27;,\n",
       "                                                   &#x27;transmission&#x27;, &#x27;drive_type&#x27;,\n",
       "                                                   &#x27;fuel&#x27;, &#x27;engine&#x27;]),\n",
       "                                                 (&#x27;cat_ordinal&#x27;,\n",
       "                                                  OrdinalEncoder(),\n",
       "                                                  [&#x27;year&#x27;, &#x27;doors&#x27;]),\n",
       "                                                 (&#x27;binary&#x27;, &#x27;passthrough&#x27;,\n",
       "                                                  [&#x27;lux_category&#x27;])])),\n",
       "                (&#x27;model&#x27;, GradientBoostingRegressor(random_state=42))])</pre></div></div></div><div class=\"sk-serial\"><div class=\"sk-item sk-dashed-wrapped\"><div class=\"sk-label-container\"><div class=\"sk-label sk-toggleable\"><input class=\"sk-toggleable__control sk-hidden--visually\" id=\"sk-estimator-id-24\" type=\"checkbox\" ><label for=\"sk-estimator-id-24\" class=\"sk-toggleable__label sk-toggleable__label-arrow\">preprocessor: ColumnTransformer</label><div class=\"sk-toggleable__content\"><pre>ColumnTransformer(transformers=[(&#x27;num&#x27;, StandardScaler(),\n",
       "                                 [&#x27;miles_driven&#x27;, &#x27;avg_mpg&#x27;]),\n",
       "                                (&#x27;cat_label&#x27;,\n",
       "                                 OneHotEncoder(handle_unknown=&#x27;ignore&#x27;,\n",
       "                                               sparse=False),\n",
       "                                 [&#x27;type&#x27;, &#x27;make&#x27;, &#x27;model&#x27;, &#x27;transmission&#x27;,\n",
       "                                  &#x27;drive_type&#x27;, &#x27;fuel&#x27;, &#x27;engine&#x27;]),\n",
       "                                (&#x27;cat_ordinal&#x27;, OrdinalEncoder(),\n",
       "                                 [&#x27;year&#x27;, &#x27;doors&#x27;]),\n",
       "                                (&#x27;binary&#x27;, &#x27;passthrough&#x27;, [&#x27;lux_category&#x27;])])</pre></div></div></div><div class=\"sk-parallel\"><div class=\"sk-parallel-item\"><div class=\"sk-item\"><div class=\"sk-label-container\"><div class=\"sk-label sk-toggleable\"><input class=\"sk-toggleable__control sk-hidden--visually\" id=\"sk-estimator-id-25\" type=\"checkbox\" ><label for=\"sk-estimator-id-25\" class=\"sk-toggleable__label sk-toggleable__label-arrow\">num</label><div class=\"sk-toggleable__content\"><pre>[&#x27;miles_driven&#x27;, &#x27;avg_mpg&#x27;]</pre></div></div></div><div class=\"sk-serial\"><div class=\"sk-item\"><div class=\"sk-estimator sk-toggleable\"><input class=\"sk-toggleable__control sk-hidden--visually\" id=\"sk-estimator-id-26\" type=\"checkbox\" ><label for=\"sk-estimator-id-26\" class=\"sk-toggleable__label sk-toggleable__label-arrow\">StandardScaler</label><div class=\"sk-toggleable__content\"><pre>StandardScaler()</pre></div></div></div></div></div></div><div class=\"sk-parallel-item\"><div class=\"sk-item\"><div class=\"sk-label-container\"><div class=\"sk-label sk-toggleable\"><input class=\"sk-toggleable__control sk-hidden--visually\" id=\"sk-estimator-id-27\" type=\"checkbox\" ><label for=\"sk-estimator-id-27\" class=\"sk-toggleable__label sk-toggleable__label-arrow\">cat_label</label><div class=\"sk-toggleable__content\"><pre>[&#x27;type&#x27;, &#x27;make&#x27;, &#x27;model&#x27;, &#x27;transmission&#x27;, &#x27;drive_type&#x27;, &#x27;fuel&#x27;, &#x27;engine&#x27;]</pre></div></div></div><div class=\"sk-serial\"><div class=\"sk-item\"><div class=\"sk-estimator sk-toggleable\"><input class=\"sk-toggleable__control sk-hidden--visually\" id=\"sk-estimator-id-28\" type=\"checkbox\" ><label for=\"sk-estimator-id-28\" class=\"sk-toggleable__label sk-toggleable__label-arrow\">OneHotEncoder</label><div class=\"sk-toggleable__content\"><pre>OneHotEncoder(handle_unknown=&#x27;ignore&#x27;, sparse=False)</pre></div></div></div></div></div></div><div class=\"sk-parallel-item\"><div class=\"sk-item\"><div class=\"sk-label-container\"><div class=\"sk-label sk-toggleable\"><input class=\"sk-toggleable__control sk-hidden--visually\" id=\"sk-estimator-id-29\" type=\"checkbox\" ><label for=\"sk-estimator-id-29\" class=\"sk-toggleable__label sk-toggleable__label-arrow\">cat_ordinal</label><div class=\"sk-toggleable__content\"><pre>[&#x27;year&#x27;, &#x27;doors&#x27;]</pre></div></div></div><div class=\"sk-serial\"><div class=\"sk-item\"><div class=\"sk-estimator sk-toggleable\"><input class=\"sk-toggleable__control sk-hidden--visually\" id=\"sk-estimator-id-30\" type=\"checkbox\" ><label for=\"sk-estimator-id-30\" class=\"sk-toggleable__label sk-toggleable__label-arrow\">OrdinalEncoder</label><div class=\"sk-toggleable__content\"><pre>OrdinalEncoder()</pre></div></div></div></div></div></div><div class=\"sk-parallel-item\"><div class=\"sk-item\"><div class=\"sk-label-container\"><div class=\"sk-label sk-toggleable\"><input class=\"sk-toggleable__control sk-hidden--visually\" id=\"sk-estimator-id-31\" type=\"checkbox\" ><label for=\"sk-estimator-id-31\" class=\"sk-toggleable__label sk-toggleable__label-arrow\">binary</label><div class=\"sk-toggleable__content\"><pre>[&#x27;lux_category&#x27;]</pre></div></div></div><div class=\"sk-serial\"><div class=\"sk-item\"><div class=\"sk-estimator sk-toggleable\"><input class=\"sk-toggleable__control sk-hidden--visually\" id=\"sk-estimator-id-32\" type=\"checkbox\" ><label for=\"sk-estimator-id-32\" class=\"sk-toggleable__label sk-toggleable__label-arrow\">passthrough</label><div class=\"sk-toggleable__content\"><pre>passthrough</pre></div></div></div></div></div></div></div></div><div class=\"sk-item\"><div class=\"sk-estimator sk-toggleable\"><input class=\"sk-toggleable__control sk-hidden--visually\" id=\"sk-estimator-id-33\" type=\"checkbox\" ><label for=\"sk-estimator-id-33\" class=\"sk-toggleable__label sk-toggleable__label-arrow\">GradientBoostingRegressor</label><div class=\"sk-toggleable__content\"><pre>GradientBoostingRegressor(random_state=42)</pre></div></div></div></div></div></div></div>"
      ],
      "text/plain": [
       "Pipeline(steps=[('preprocessor',\n",
       "                 ColumnTransformer(transformers=[('num', StandardScaler(),\n",
       "                                                  ['miles_driven', 'avg_mpg']),\n",
       "                                                 ('cat_label',\n",
       "                                                  OneHotEncoder(handle_unknown='ignore',\n",
       "                                                                sparse=False),\n",
       "                                                  ['type', 'make', 'model',\n",
       "                                                   'transmission', 'drive_type',\n",
       "                                                   'fuel', 'engine']),\n",
       "                                                 ('cat_ordinal',\n",
       "                                                  OrdinalEncoder(),\n",
       "                                                  ['year', 'doors']),\n",
       "                                                 ('binary', 'passthrough',\n",
       "                                                  ['lux_category'])])),\n",
       "                ('model', GradientBoostingRegressor(random_state=42))])"
      ]
     },
     "execution_count": 48,
     "metadata": {},
     "output_type": "execute_result"
    }
   ],
   "source": [
    "gb_pipeline.fit(X_train, y_train)"
   ]
  },
  {
   "cell_type": "markdown",
   "id": "dc30ccf3",
   "metadata": {},
   "source": [
    "#### Voting Regressor ( ENSEMBLE )"
   ]
  },
  {
   "cell_type": "code",
   "execution_count": 49,
   "id": "5b28298f",
   "metadata": {},
   "outputs": [],
   "source": [
    "voting_model = VotingRegressor(estimators=[('rf', rf_model), ('mlp', mlp_model)])\n",
    "\n",
    "# Create the full pipeline (if needed)\n",
    "voting_pipeline = Pipeline([\n",
    "    ('preprocessor', preprocessor),\n",
    "    ('model', voting_model)  \n",
    "])"
   ]
  },
  {
   "cell_type": "code",
   "execution_count": 50,
   "id": "bf1f4b7b",
   "metadata": {},
   "outputs": [
    {
     "data": {
      "text/html": [
       "<style>#sk-container-id-4 {color: black;}#sk-container-id-4 pre{padding: 0;}#sk-container-id-4 div.sk-toggleable {background-color: white;}#sk-container-id-4 label.sk-toggleable__label {cursor: pointer;display: block;width: 100%;margin-bottom: 0;padding: 0.3em;box-sizing: border-box;text-align: center;}#sk-container-id-4 label.sk-toggleable__label-arrow:before {content: \"▸\";float: left;margin-right: 0.25em;color: #696969;}#sk-container-id-4 label.sk-toggleable__label-arrow:hover:before {color: black;}#sk-container-id-4 div.sk-estimator:hover label.sk-toggleable__label-arrow:before {color: black;}#sk-container-id-4 div.sk-toggleable__content {max-height: 0;max-width: 0;overflow: hidden;text-align: left;background-color: #f0f8ff;}#sk-container-id-4 div.sk-toggleable__content pre {margin: 0.2em;color: black;border-radius: 0.25em;background-color: #f0f8ff;}#sk-container-id-4 input.sk-toggleable__control:checked~div.sk-toggleable__content {max-height: 200px;max-width: 100%;overflow: auto;}#sk-container-id-4 input.sk-toggleable__control:checked~label.sk-toggleable__label-arrow:before {content: \"▾\";}#sk-container-id-4 div.sk-estimator input.sk-toggleable__control:checked~label.sk-toggleable__label {background-color: #d4ebff;}#sk-container-id-4 div.sk-label input.sk-toggleable__control:checked~label.sk-toggleable__label {background-color: #d4ebff;}#sk-container-id-4 input.sk-hidden--visually {border: 0;clip: rect(1px 1px 1px 1px);clip: rect(1px, 1px, 1px, 1px);height: 1px;margin: -1px;overflow: hidden;padding: 0;position: absolute;width: 1px;}#sk-container-id-4 div.sk-estimator {font-family: monospace;background-color: #f0f8ff;border: 1px dotted black;border-radius: 0.25em;box-sizing: border-box;margin-bottom: 0.5em;}#sk-container-id-4 div.sk-estimator:hover {background-color: #d4ebff;}#sk-container-id-4 div.sk-parallel-item::after {content: \"\";width: 100%;border-bottom: 1px solid gray;flex-grow: 1;}#sk-container-id-4 div.sk-label:hover label.sk-toggleable__label {background-color: #d4ebff;}#sk-container-id-4 div.sk-serial::before {content: \"\";position: absolute;border-left: 1px solid gray;box-sizing: border-box;top: 0;bottom: 0;left: 50%;z-index: 0;}#sk-container-id-4 div.sk-serial {display: flex;flex-direction: column;align-items: center;background-color: white;padding-right: 0.2em;padding-left: 0.2em;position: relative;}#sk-container-id-4 div.sk-item {position: relative;z-index: 1;}#sk-container-id-4 div.sk-parallel {display: flex;align-items: stretch;justify-content: center;background-color: white;position: relative;}#sk-container-id-4 div.sk-item::before, #sk-container-id-4 div.sk-parallel-item::before {content: \"\";position: absolute;border-left: 1px solid gray;box-sizing: border-box;top: 0;bottom: 0;left: 50%;z-index: -1;}#sk-container-id-4 div.sk-parallel-item {display: flex;flex-direction: column;z-index: 1;position: relative;background-color: white;}#sk-container-id-4 div.sk-parallel-item:first-child::after {align-self: flex-end;width: 50%;}#sk-container-id-4 div.sk-parallel-item:last-child::after {align-self: flex-start;width: 50%;}#sk-container-id-4 div.sk-parallel-item:only-child::after {width: 0;}#sk-container-id-4 div.sk-dashed-wrapped {border: 1px dashed gray;margin: 0 0.4em 0.5em 0.4em;box-sizing: border-box;padding-bottom: 0.4em;background-color: white;}#sk-container-id-4 div.sk-label label {font-family: monospace;font-weight: bold;display: inline-block;line-height: 1.2em;}#sk-container-id-4 div.sk-label-container {text-align: center;}#sk-container-id-4 div.sk-container {/* jupyter's `normalize.less` sets `[hidden] { display: none; }` but bootstrap.min.css set `[hidden] { display: none !important; }` so we also need the `!important` here to be able to override the default hidden behavior on the sphinx rendered scikit-learn.org. See: https://github.com/scikit-learn/scikit-learn/issues/21755 */display: inline-block !important;position: relative;}#sk-container-id-4 div.sk-text-repr-fallback {display: none;}</style><div id=\"sk-container-id-4\" class=\"sk-top-container\"><div class=\"sk-text-repr-fallback\"><pre>Pipeline(steps=[(&#x27;preprocessor&#x27;,\n",
       "                 ColumnTransformer(transformers=[(&#x27;num&#x27;, StandardScaler(),\n",
       "                                                  [&#x27;miles_driven&#x27;, &#x27;avg_mpg&#x27;]),\n",
       "                                                 (&#x27;cat_label&#x27;,\n",
       "                                                  OneHotEncoder(handle_unknown=&#x27;ignore&#x27;,\n",
       "                                                                sparse=False),\n",
       "                                                  [&#x27;type&#x27;, &#x27;make&#x27;, &#x27;model&#x27;,\n",
       "                                                   &#x27;transmission&#x27;, &#x27;drive_type&#x27;,\n",
       "                                                   &#x27;fuel&#x27;, &#x27;engine&#x27;]),\n",
       "                                                 (&#x27;cat_ordinal&#x27;,\n",
       "                                                  OrdinalEncoder(),\n",
       "                                                  [&#x27;year&#x27;, &#x27;doors&#x27;]),\n",
       "                                                 (&#x27;binary&#x27;, &#x27;passthrough&#x27;,\n",
       "                                                  [&#x27;lux_category&#x27;])])),\n",
       "                (&#x27;model&#x27;,\n",
       "                 VotingRegressor(estimators=[(&#x27;rf&#x27;,\n",
       "                                              RandomForestRegressor(random_state=42)),\n",
       "                                             (&#x27;mlp&#x27;,\n",
       "                                              MLPRegressor(hidden_layer_sizes=(100,\n",
       "                                                                               50),\n",
       "                                                           max_iter=1000,\n",
       "                                                           random_state=42))]))])</pre><b>In a Jupyter environment, please rerun this cell to show the HTML representation or trust the notebook. <br />On GitHub, the HTML representation is unable to render, please try loading this page with nbviewer.org.</b></div><div class=\"sk-container\" hidden><div class=\"sk-item sk-dashed-wrapped\"><div class=\"sk-label-container\"><div class=\"sk-label sk-toggleable\"><input class=\"sk-toggleable__control sk-hidden--visually\" id=\"sk-estimator-id-34\" type=\"checkbox\" ><label for=\"sk-estimator-id-34\" class=\"sk-toggleable__label sk-toggleable__label-arrow\">Pipeline</label><div class=\"sk-toggleable__content\"><pre>Pipeline(steps=[(&#x27;preprocessor&#x27;,\n",
       "                 ColumnTransformer(transformers=[(&#x27;num&#x27;, StandardScaler(),\n",
       "                                                  [&#x27;miles_driven&#x27;, &#x27;avg_mpg&#x27;]),\n",
       "                                                 (&#x27;cat_label&#x27;,\n",
       "                                                  OneHotEncoder(handle_unknown=&#x27;ignore&#x27;,\n",
       "                                                                sparse=False),\n",
       "                                                  [&#x27;type&#x27;, &#x27;make&#x27;, &#x27;model&#x27;,\n",
       "                                                   &#x27;transmission&#x27;, &#x27;drive_type&#x27;,\n",
       "                                                   &#x27;fuel&#x27;, &#x27;engine&#x27;]),\n",
       "                                                 (&#x27;cat_ordinal&#x27;,\n",
       "                                                  OrdinalEncoder(),\n",
       "                                                  [&#x27;year&#x27;, &#x27;doors&#x27;]),\n",
       "                                                 (&#x27;binary&#x27;, &#x27;passthrough&#x27;,\n",
       "                                                  [&#x27;lux_category&#x27;])])),\n",
       "                (&#x27;model&#x27;,\n",
       "                 VotingRegressor(estimators=[(&#x27;rf&#x27;,\n",
       "                                              RandomForestRegressor(random_state=42)),\n",
       "                                             (&#x27;mlp&#x27;,\n",
       "                                              MLPRegressor(hidden_layer_sizes=(100,\n",
       "                                                                               50),\n",
       "                                                           max_iter=1000,\n",
       "                                                           random_state=42))]))])</pre></div></div></div><div class=\"sk-serial\"><div class=\"sk-item sk-dashed-wrapped\"><div class=\"sk-label-container\"><div class=\"sk-label sk-toggleable\"><input class=\"sk-toggleable__control sk-hidden--visually\" id=\"sk-estimator-id-35\" type=\"checkbox\" ><label for=\"sk-estimator-id-35\" class=\"sk-toggleable__label sk-toggleable__label-arrow\">preprocessor: ColumnTransformer</label><div class=\"sk-toggleable__content\"><pre>ColumnTransformer(transformers=[(&#x27;num&#x27;, StandardScaler(),\n",
       "                                 [&#x27;miles_driven&#x27;, &#x27;avg_mpg&#x27;]),\n",
       "                                (&#x27;cat_label&#x27;,\n",
       "                                 OneHotEncoder(handle_unknown=&#x27;ignore&#x27;,\n",
       "                                               sparse=False),\n",
       "                                 [&#x27;type&#x27;, &#x27;make&#x27;, &#x27;model&#x27;, &#x27;transmission&#x27;,\n",
       "                                  &#x27;drive_type&#x27;, &#x27;fuel&#x27;, &#x27;engine&#x27;]),\n",
       "                                (&#x27;cat_ordinal&#x27;, OrdinalEncoder(),\n",
       "                                 [&#x27;year&#x27;, &#x27;doors&#x27;]),\n",
       "                                (&#x27;binary&#x27;, &#x27;passthrough&#x27;, [&#x27;lux_category&#x27;])])</pre></div></div></div><div class=\"sk-parallel\"><div class=\"sk-parallel-item\"><div class=\"sk-item\"><div class=\"sk-label-container\"><div class=\"sk-label sk-toggleable\"><input class=\"sk-toggleable__control sk-hidden--visually\" id=\"sk-estimator-id-36\" type=\"checkbox\" ><label for=\"sk-estimator-id-36\" class=\"sk-toggleable__label sk-toggleable__label-arrow\">num</label><div class=\"sk-toggleable__content\"><pre>[&#x27;miles_driven&#x27;, &#x27;avg_mpg&#x27;]</pre></div></div></div><div class=\"sk-serial\"><div class=\"sk-item\"><div class=\"sk-estimator sk-toggleable\"><input class=\"sk-toggleable__control sk-hidden--visually\" id=\"sk-estimator-id-37\" type=\"checkbox\" ><label for=\"sk-estimator-id-37\" class=\"sk-toggleable__label sk-toggleable__label-arrow\">StandardScaler</label><div class=\"sk-toggleable__content\"><pre>StandardScaler()</pre></div></div></div></div></div></div><div class=\"sk-parallel-item\"><div class=\"sk-item\"><div class=\"sk-label-container\"><div class=\"sk-label sk-toggleable\"><input class=\"sk-toggleable__control sk-hidden--visually\" id=\"sk-estimator-id-38\" type=\"checkbox\" ><label for=\"sk-estimator-id-38\" class=\"sk-toggleable__label sk-toggleable__label-arrow\">cat_label</label><div class=\"sk-toggleable__content\"><pre>[&#x27;type&#x27;, &#x27;make&#x27;, &#x27;model&#x27;, &#x27;transmission&#x27;, &#x27;drive_type&#x27;, &#x27;fuel&#x27;, &#x27;engine&#x27;]</pre></div></div></div><div class=\"sk-serial\"><div class=\"sk-item\"><div class=\"sk-estimator sk-toggleable\"><input class=\"sk-toggleable__control sk-hidden--visually\" id=\"sk-estimator-id-39\" type=\"checkbox\" ><label for=\"sk-estimator-id-39\" class=\"sk-toggleable__label sk-toggleable__label-arrow\">OneHotEncoder</label><div class=\"sk-toggleable__content\"><pre>OneHotEncoder(handle_unknown=&#x27;ignore&#x27;, sparse=False)</pre></div></div></div></div></div></div><div class=\"sk-parallel-item\"><div class=\"sk-item\"><div class=\"sk-label-container\"><div class=\"sk-label sk-toggleable\"><input class=\"sk-toggleable__control sk-hidden--visually\" id=\"sk-estimator-id-40\" type=\"checkbox\" ><label for=\"sk-estimator-id-40\" class=\"sk-toggleable__label sk-toggleable__label-arrow\">cat_ordinal</label><div class=\"sk-toggleable__content\"><pre>[&#x27;year&#x27;, &#x27;doors&#x27;]</pre></div></div></div><div class=\"sk-serial\"><div class=\"sk-item\"><div class=\"sk-estimator sk-toggleable\"><input class=\"sk-toggleable__control sk-hidden--visually\" id=\"sk-estimator-id-41\" type=\"checkbox\" ><label for=\"sk-estimator-id-41\" class=\"sk-toggleable__label sk-toggleable__label-arrow\">OrdinalEncoder</label><div class=\"sk-toggleable__content\"><pre>OrdinalEncoder()</pre></div></div></div></div></div></div><div class=\"sk-parallel-item\"><div class=\"sk-item\"><div class=\"sk-label-container\"><div class=\"sk-label sk-toggleable\"><input class=\"sk-toggleable__control sk-hidden--visually\" id=\"sk-estimator-id-42\" type=\"checkbox\" ><label for=\"sk-estimator-id-42\" class=\"sk-toggleable__label sk-toggleable__label-arrow\">binary</label><div class=\"sk-toggleable__content\"><pre>[&#x27;lux_category&#x27;]</pre></div></div></div><div class=\"sk-serial\"><div class=\"sk-item\"><div class=\"sk-estimator sk-toggleable\"><input class=\"sk-toggleable__control sk-hidden--visually\" id=\"sk-estimator-id-43\" type=\"checkbox\" ><label for=\"sk-estimator-id-43\" class=\"sk-toggleable__label sk-toggleable__label-arrow\">passthrough</label><div class=\"sk-toggleable__content\"><pre>passthrough</pre></div></div></div></div></div></div></div></div><div class=\"sk-item sk-dashed-wrapped\"><div class=\"sk-label-container\"><div class=\"sk-label sk-toggleable\"><input class=\"sk-toggleable__control sk-hidden--visually\" id=\"sk-estimator-id-44\" type=\"checkbox\" ><label for=\"sk-estimator-id-44\" class=\"sk-toggleable__label sk-toggleable__label-arrow\">model: VotingRegressor</label><div class=\"sk-toggleable__content\"><pre>VotingRegressor(estimators=[(&#x27;rf&#x27;, RandomForestRegressor(random_state=42)),\n",
       "                            (&#x27;mlp&#x27;,\n",
       "                             MLPRegressor(hidden_layer_sizes=(100, 50),\n",
       "                                          max_iter=1000, random_state=42))])</pre></div></div></div><div class=\"sk-parallel\"><div class=\"sk-parallel-item\"><div class=\"sk-item\"><div class=\"sk-label-container\"><div class=\"sk-label sk-toggleable\"><label>rf</label></div></div><div class=\"sk-serial\"><div class=\"sk-item\"><div class=\"sk-estimator sk-toggleable\"><input class=\"sk-toggleable__control sk-hidden--visually\" id=\"sk-estimator-id-45\" type=\"checkbox\" ><label for=\"sk-estimator-id-45\" class=\"sk-toggleable__label sk-toggleable__label-arrow\">RandomForestRegressor</label><div class=\"sk-toggleable__content\"><pre>RandomForestRegressor(random_state=42)</pre></div></div></div></div></div></div><div class=\"sk-parallel-item\"><div class=\"sk-item\"><div class=\"sk-label-container\"><div class=\"sk-label sk-toggleable\"><label>mlp</label></div></div><div class=\"sk-serial\"><div class=\"sk-item\"><div class=\"sk-estimator sk-toggleable\"><input class=\"sk-toggleable__control sk-hidden--visually\" id=\"sk-estimator-id-46\" type=\"checkbox\" ><label for=\"sk-estimator-id-46\" class=\"sk-toggleable__label sk-toggleable__label-arrow\">MLPRegressor</label><div class=\"sk-toggleable__content\"><pre>MLPRegressor(hidden_layer_sizes=(100, 50), max_iter=1000, random_state=42)</pre></div></div></div></div></div></div></div></div></div></div></div></div>"
      ],
      "text/plain": [
       "Pipeline(steps=[('preprocessor',\n",
       "                 ColumnTransformer(transformers=[('num', StandardScaler(),\n",
       "                                                  ['miles_driven', 'avg_mpg']),\n",
       "                                                 ('cat_label',\n",
       "                                                  OneHotEncoder(handle_unknown='ignore',\n",
       "                                                                sparse=False),\n",
       "                                                  ['type', 'make', 'model',\n",
       "                                                   'transmission', 'drive_type',\n",
       "                                                   'fuel', 'engine']),\n",
       "                                                 ('cat_ordinal',\n",
       "                                                  OrdinalEncoder(),\n",
       "                                                  ['year', 'doors']),\n",
       "                                                 ('binary', 'passthrough',\n",
       "                                                  ['lux_category'])])),\n",
       "                ('model',\n",
       "                 VotingRegressor(estimators=[('rf',\n",
       "                                              RandomForestRegressor(random_state=42)),\n",
       "                                             ('mlp',\n",
       "                                              MLPRegressor(hidden_layer_sizes=(100,\n",
       "                                                                               50),\n",
       "                                                           max_iter=1000,\n",
       "                                                           random_state=42))]))])"
      ]
     },
     "execution_count": 50,
     "metadata": {},
     "output_type": "execute_result"
    }
   ],
   "source": [
    "voting_pipeline.fit(X_train, y_train)"
   ]
  },
  {
   "cell_type": "markdown",
   "id": "bb062336",
   "metadata": {},
   "source": [
    "#### Stacking Regressor ( ENSEMBLE )"
   ]
  },
  {
   "cell_type": "code",
   "execution_count": 51,
   "id": "cd280598",
   "metadata": {},
   "outputs": [],
   "source": [
    "stacking_model = StackingRegressor(\n",
    "    estimators=[('rf', rf_model), ('mlp', mlp_model)],\n",
    "    final_estimator=MLPRegressor()  # Choose a meta-regressor (e.g., RandomForestRegressor)\n",
    ")\n",
    "\n",
    "# Create the full pipeline (if needed)\n",
    "stacking_pipeline = Pipeline([\n",
    "    ('preprocessor', preprocessor),\n",
    "    ('model', stacking_model)  \n",
    "])"
   ]
  },
  {
   "cell_type": "code",
   "execution_count": 52,
   "id": "b05d6942",
   "metadata": {},
   "outputs": [
    {
     "data": {
      "text/html": [
       "<style>#sk-container-id-5 {color: black;}#sk-container-id-5 pre{padding: 0;}#sk-container-id-5 div.sk-toggleable {background-color: white;}#sk-container-id-5 label.sk-toggleable__label {cursor: pointer;display: block;width: 100%;margin-bottom: 0;padding: 0.3em;box-sizing: border-box;text-align: center;}#sk-container-id-5 label.sk-toggleable__label-arrow:before {content: \"▸\";float: left;margin-right: 0.25em;color: #696969;}#sk-container-id-5 label.sk-toggleable__label-arrow:hover:before {color: black;}#sk-container-id-5 div.sk-estimator:hover label.sk-toggleable__label-arrow:before {color: black;}#sk-container-id-5 div.sk-toggleable__content {max-height: 0;max-width: 0;overflow: hidden;text-align: left;background-color: #f0f8ff;}#sk-container-id-5 div.sk-toggleable__content pre {margin: 0.2em;color: black;border-radius: 0.25em;background-color: #f0f8ff;}#sk-container-id-5 input.sk-toggleable__control:checked~div.sk-toggleable__content {max-height: 200px;max-width: 100%;overflow: auto;}#sk-container-id-5 input.sk-toggleable__control:checked~label.sk-toggleable__label-arrow:before {content: \"▾\";}#sk-container-id-5 div.sk-estimator input.sk-toggleable__control:checked~label.sk-toggleable__label {background-color: #d4ebff;}#sk-container-id-5 div.sk-label input.sk-toggleable__control:checked~label.sk-toggleable__label {background-color: #d4ebff;}#sk-container-id-5 input.sk-hidden--visually {border: 0;clip: rect(1px 1px 1px 1px);clip: rect(1px, 1px, 1px, 1px);height: 1px;margin: -1px;overflow: hidden;padding: 0;position: absolute;width: 1px;}#sk-container-id-5 div.sk-estimator {font-family: monospace;background-color: #f0f8ff;border: 1px dotted black;border-radius: 0.25em;box-sizing: border-box;margin-bottom: 0.5em;}#sk-container-id-5 div.sk-estimator:hover {background-color: #d4ebff;}#sk-container-id-5 div.sk-parallel-item::after {content: \"\";width: 100%;border-bottom: 1px solid gray;flex-grow: 1;}#sk-container-id-5 div.sk-label:hover label.sk-toggleable__label {background-color: #d4ebff;}#sk-container-id-5 div.sk-serial::before {content: \"\";position: absolute;border-left: 1px solid gray;box-sizing: border-box;top: 0;bottom: 0;left: 50%;z-index: 0;}#sk-container-id-5 div.sk-serial {display: flex;flex-direction: column;align-items: center;background-color: white;padding-right: 0.2em;padding-left: 0.2em;position: relative;}#sk-container-id-5 div.sk-item {position: relative;z-index: 1;}#sk-container-id-5 div.sk-parallel {display: flex;align-items: stretch;justify-content: center;background-color: white;position: relative;}#sk-container-id-5 div.sk-item::before, #sk-container-id-5 div.sk-parallel-item::before {content: \"\";position: absolute;border-left: 1px solid gray;box-sizing: border-box;top: 0;bottom: 0;left: 50%;z-index: -1;}#sk-container-id-5 div.sk-parallel-item {display: flex;flex-direction: column;z-index: 1;position: relative;background-color: white;}#sk-container-id-5 div.sk-parallel-item:first-child::after {align-self: flex-end;width: 50%;}#sk-container-id-5 div.sk-parallel-item:last-child::after {align-self: flex-start;width: 50%;}#sk-container-id-5 div.sk-parallel-item:only-child::after {width: 0;}#sk-container-id-5 div.sk-dashed-wrapped {border: 1px dashed gray;margin: 0 0.4em 0.5em 0.4em;box-sizing: border-box;padding-bottom: 0.4em;background-color: white;}#sk-container-id-5 div.sk-label label {font-family: monospace;font-weight: bold;display: inline-block;line-height: 1.2em;}#sk-container-id-5 div.sk-label-container {text-align: center;}#sk-container-id-5 div.sk-container {/* jupyter's `normalize.less` sets `[hidden] { display: none; }` but bootstrap.min.css set `[hidden] { display: none !important; }` so we also need the `!important` here to be able to override the default hidden behavior on the sphinx rendered scikit-learn.org. See: https://github.com/scikit-learn/scikit-learn/issues/21755 */display: inline-block !important;position: relative;}#sk-container-id-5 div.sk-text-repr-fallback {display: none;}</style><div id=\"sk-container-id-5\" class=\"sk-top-container\"><div class=\"sk-text-repr-fallback\"><pre>Pipeline(steps=[(&#x27;preprocessor&#x27;,\n",
       "                 ColumnTransformer(transformers=[(&#x27;num&#x27;, StandardScaler(),\n",
       "                                                  [&#x27;miles_driven&#x27;, &#x27;avg_mpg&#x27;]),\n",
       "                                                 (&#x27;cat_label&#x27;,\n",
       "                                                  OneHotEncoder(handle_unknown=&#x27;ignore&#x27;,\n",
       "                                                                sparse=False),\n",
       "                                                  [&#x27;type&#x27;, &#x27;make&#x27;, &#x27;model&#x27;,\n",
       "                                                   &#x27;transmission&#x27;, &#x27;drive_type&#x27;,\n",
       "                                                   &#x27;fuel&#x27;, &#x27;engine&#x27;]),\n",
       "                                                 (&#x27;cat_ordinal&#x27;,\n",
       "                                                  OrdinalEncoder(),\n",
       "                                                  [&#x27;year&#x27;, &#x27;doors&#x27;]),\n",
       "                                                 (&#x27;binary&#x27;, &#x27;passthrough&#x27;,\n",
       "                                                  [&#x27;lux_category&#x27;])])),\n",
       "                (&#x27;model&#x27;,\n",
       "                 StackingRegressor(estimators=[(&#x27;rf&#x27;,\n",
       "                                                RandomForestRegressor(random_state=42)),\n",
       "                                               (&#x27;mlp&#x27;,\n",
       "                                                MLPRegressor(hidden_layer_sizes=(100,\n",
       "                                                                                 50),\n",
       "                                                             max_iter=1000,\n",
       "                                                             random_state=42))],\n",
       "                                   final_estimator=MLPRegressor()))])</pre><b>In a Jupyter environment, please rerun this cell to show the HTML representation or trust the notebook. <br />On GitHub, the HTML representation is unable to render, please try loading this page with nbviewer.org.</b></div><div class=\"sk-container\" hidden><div class=\"sk-item sk-dashed-wrapped\"><div class=\"sk-label-container\"><div class=\"sk-label sk-toggleable\"><input class=\"sk-toggleable__control sk-hidden--visually\" id=\"sk-estimator-id-47\" type=\"checkbox\" ><label for=\"sk-estimator-id-47\" class=\"sk-toggleable__label sk-toggleable__label-arrow\">Pipeline</label><div class=\"sk-toggleable__content\"><pre>Pipeline(steps=[(&#x27;preprocessor&#x27;,\n",
       "                 ColumnTransformer(transformers=[(&#x27;num&#x27;, StandardScaler(),\n",
       "                                                  [&#x27;miles_driven&#x27;, &#x27;avg_mpg&#x27;]),\n",
       "                                                 (&#x27;cat_label&#x27;,\n",
       "                                                  OneHotEncoder(handle_unknown=&#x27;ignore&#x27;,\n",
       "                                                                sparse=False),\n",
       "                                                  [&#x27;type&#x27;, &#x27;make&#x27;, &#x27;model&#x27;,\n",
       "                                                   &#x27;transmission&#x27;, &#x27;drive_type&#x27;,\n",
       "                                                   &#x27;fuel&#x27;, &#x27;engine&#x27;]),\n",
       "                                                 (&#x27;cat_ordinal&#x27;,\n",
       "                                                  OrdinalEncoder(),\n",
       "                                                  [&#x27;year&#x27;, &#x27;doors&#x27;]),\n",
       "                                                 (&#x27;binary&#x27;, &#x27;passthrough&#x27;,\n",
       "                                                  [&#x27;lux_category&#x27;])])),\n",
       "                (&#x27;model&#x27;,\n",
       "                 StackingRegressor(estimators=[(&#x27;rf&#x27;,\n",
       "                                                RandomForestRegressor(random_state=42)),\n",
       "                                               (&#x27;mlp&#x27;,\n",
       "                                                MLPRegressor(hidden_layer_sizes=(100,\n",
       "                                                                                 50),\n",
       "                                                             max_iter=1000,\n",
       "                                                             random_state=42))],\n",
       "                                   final_estimator=MLPRegressor()))])</pre></div></div></div><div class=\"sk-serial\"><div class=\"sk-item sk-dashed-wrapped\"><div class=\"sk-label-container\"><div class=\"sk-label sk-toggleable\"><input class=\"sk-toggleable__control sk-hidden--visually\" id=\"sk-estimator-id-48\" type=\"checkbox\" ><label for=\"sk-estimator-id-48\" class=\"sk-toggleable__label sk-toggleable__label-arrow\">preprocessor: ColumnTransformer</label><div class=\"sk-toggleable__content\"><pre>ColumnTransformer(transformers=[(&#x27;num&#x27;, StandardScaler(),\n",
       "                                 [&#x27;miles_driven&#x27;, &#x27;avg_mpg&#x27;]),\n",
       "                                (&#x27;cat_label&#x27;,\n",
       "                                 OneHotEncoder(handle_unknown=&#x27;ignore&#x27;,\n",
       "                                               sparse=False),\n",
       "                                 [&#x27;type&#x27;, &#x27;make&#x27;, &#x27;model&#x27;, &#x27;transmission&#x27;,\n",
       "                                  &#x27;drive_type&#x27;, &#x27;fuel&#x27;, &#x27;engine&#x27;]),\n",
       "                                (&#x27;cat_ordinal&#x27;, OrdinalEncoder(),\n",
       "                                 [&#x27;year&#x27;, &#x27;doors&#x27;]),\n",
       "                                (&#x27;binary&#x27;, &#x27;passthrough&#x27;, [&#x27;lux_category&#x27;])])</pre></div></div></div><div class=\"sk-parallel\"><div class=\"sk-parallel-item\"><div class=\"sk-item\"><div class=\"sk-label-container\"><div class=\"sk-label sk-toggleable\"><input class=\"sk-toggleable__control sk-hidden--visually\" id=\"sk-estimator-id-49\" type=\"checkbox\" ><label for=\"sk-estimator-id-49\" class=\"sk-toggleable__label sk-toggleable__label-arrow\">num</label><div class=\"sk-toggleable__content\"><pre>[&#x27;miles_driven&#x27;, &#x27;avg_mpg&#x27;]</pre></div></div></div><div class=\"sk-serial\"><div class=\"sk-item\"><div class=\"sk-estimator sk-toggleable\"><input class=\"sk-toggleable__control sk-hidden--visually\" id=\"sk-estimator-id-50\" type=\"checkbox\" ><label for=\"sk-estimator-id-50\" class=\"sk-toggleable__label sk-toggleable__label-arrow\">StandardScaler</label><div class=\"sk-toggleable__content\"><pre>StandardScaler()</pre></div></div></div></div></div></div><div class=\"sk-parallel-item\"><div class=\"sk-item\"><div class=\"sk-label-container\"><div class=\"sk-label sk-toggleable\"><input class=\"sk-toggleable__control sk-hidden--visually\" id=\"sk-estimator-id-51\" type=\"checkbox\" ><label for=\"sk-estimator-id-51\" class=\"sk-toggleable__label sk-toggleable__label-arrow\">cat_label</label><div class=\"sk-toggleable__content\"><pre>[&#x27;type&#x27;, &#x27;make&#x27;, &#x27;model&#x27;, &#x27;transmission&#x27;, &#x27;drive_type&#x27;, &#x27;fuel&#x27;, &#x27;engine&#x27;]</pre></div></div></div><div class=\"sk-serial\"><div class=\"sk-item\"><div class=\"sk-estimator sk-toggleable\"><input class=\"sk-toggleable__control sk-hidden--visually\" id=\"sk-estimator-id-52\" type=\"checkbox\" ><label for=\"sk-estimator-id-52\" class=\"sk-toggleable__label sk-toggleable__label-arrow\">OneHotEncoder</label><div class=\"sk-toggleable__content\"><pre>OneHotEncoder(handle_unknown=&#x27;ignore&#x27;, sparse=False)</pre></div></div></div></div></div></div><div class=\"sk-parallel-item\"><div class=\"sk-item\"><div class=\"sk-label-container\"><div class=\"sk-label sk-toggleable\"><input class=\"sk-toggleable__control sk-hidden--visually\" id=\"sk-estimator-id-53\" type=\"checkbox\" ><label for=\"sk-estimator-id-53\" class=\"sk-toggleable__label sk-toggleable__label-arrow\">cat_ordinal</label><div class=\"sk-toggleable__content\"><pre>[&#x27;year&#x27;, &#x27;doors&#x27;]</pre></div></div></div><div class=\"sk-serial\"><div class=\"sk-item\"><div class=\"sk-estimator sk-toggleable\"><input class=\"sk-toggleable__control sk-hidden--visually\" id=\"sk-estimator-id-54\" type=\"checkbox\" ><label for=\"sk-estimator-id-54\" class=\"sk-toggleable__label sk-toggleable__label-arrow\">OrdinalEncoder</label><div class=\"sk-toggleable__content\"><pre>OrdinalEncoder()</pre></div></div></div></div></div></div><div class=\"sk-parallel-item\"><div class=\"sk-item\"><div class=\"sk-label-container\"><div class=\"sk-label sk-toggleable\"><input class=\"sk-toggleable__control sk-hidden--visually\" id=\"sk-estimator-id-55\" type=\"checkbox\" ><label for=\"sk-estimator-id-55\" class=\"sk-toggleable__label sk-toggleable__label-arrow\">binary</label><div class=\"sk-toggleable__content\"><pre>[&#x27;lux_category&#x27;]</pre></div></div></div><div class=\"sk-serial\"><div class=\"sk-item\"><div class=\"sk-estimator sk-toggleable\"><input class=\"sk-toggleable__control sk-hidden--visually\" id=\"sk-estimator-id-56\" type=\"checkbox\" ><label for=\"sk-estimator-id-56\" class=\"sk-toggleable__label sk-toggleable__label-arrow\">passthrough</label><div class=\"sk-toggleable__content\"><pre>passthrough</pre></div></div></div></div></div></div></div></div><div class=\"sk-item\"><div class=\"sk-label-container\"><div class=\"sk-label sk-toggleable\"><input class=\"sk-toggleable__control sk-hidden--visually\" id=\"sk-estimator-id-57\" type=\"checkbox\" ><label for=\"sk-estimator-id-57\" class=\"sk-toggleable__label sk-toggleable__label-arrow\">model: StackingRegressor</label><div class=\"sk-toggleable__content\"><pre>StackingRegressor(estimators=[(&#x27;rf&#x27;, RandomForestRegressor(random_state=42)),\n",
       "                              (&#x27;mlp&#x27;,\n",
       "                               MLPRegressor(hidden_layer_sizes=(100, 50),\n",
       "                                            max_iter=1000, random_state=42))],\n",
       "                  final_estimator=MLPRegressor())</pre></div></div></div><div class=\"sk-serial\"><div class=\"sk-item\"><div class=\"sk-parallel\"><div class=\"sk-parallel-item\"><div class=\"sk-item\"><div class=\"sk-label-container\"><div class=\"sk-label sk-toggleable\"><label>rf</label></div></div><div class=\"sk-serial\"><div class=\"sk-item\"><div class=\"sk-estimator sk-toggleable\"><input class=\"sk-toggleable__control sk-hidden--visually\" id=\"sk-estimator-id-58\" type=\"checkbox\" ><label for=\"sk-estimator-id-58\" class=\"sk-toggleable__label sk-toggleable__label-arrow\">RandomForestRegressor</label><div class=\"sk-toggleable__content\"><pre>RandomForestRegressor(random_state=42)</pre></div></div></div></div></div></div><div class=\"sk-parallel-item\"><div class=\"sk-item\"><div class=\"sk-label-container\"><div class=\"sk-label sk-toggleable\"><label>mlp</label></div></div><div class=\"sk-serial\"><div class=\"sk-item\"><div class=\"sk-estimator sk-toggleable\"><input class=\"sk-toggleable__control sk-hidden--visually\" id=\"sk-estimator-id-59\" type=\"checkbox\" ><label for=\"sk-estimator-id-59\" class=\"sk-toggleable__label sk-toggleable__label-arrow\">MLPRegressor</label><div class=\"sk-toggleable__content\"><pre>MLPRegressor(hidden_layer_sizes=(100, 50), max_iter=1000, random_state=42)</pre></div></div></div></div></div></div></div></div><div class=\"sk-item\"><div class=\"sk-parallel\"><div class=\"sk-parallel-item\"><div class=\"sk-item\"><div class=\"sk-label-container\"><div class=\"sk-label sk-toggleable\"><label>final_estimator</label></div></div><div class=\"sk-serial\"><div class=\"sk-item\"><div class=\"sk-estimator sk-toggleable\"><input class=\"sk-toggleable__control sk-hidden--visually\" id=\"sk-estimator-id-60\" type=\"checkbox\" ><label for=\"sk-estimator-id-60\" class=\"sk-toggleable__label sk-toggleable__label-arrow\">MLPRegressor</label><div class=\"sk-toggleable__content\"><pre>MLPRegressor()</pre></div></div></div></div></div></div></div></div></div></div></div></div></div></div>"
      ],
      "text/plain": [
       "Pipeline(steps=[('preprocessor',\n",
       "                 ColumnTransformer(transformers=[('num', StandardScaler(),\n",
       "                                                  ['miles_driven', 'avg_mpg']),\n",
       "                                                 ('cat_label',\n",
       "                                                  OneHotEncoder(handle_unknown='ignore',\n",
       "                                                                sparse=False),\n",
       "                                                  ['type', 'make', 'model',\n",
       "                                                   'transmission', 'drive_type',\n",
       "                                                   'fuel', 'engine']),\n",
       "                                                 ('cat_ordinal',\n",
       "                                                  OrdinalEncoder(),\n",
       "                                                  ['year', 'doors']),\n",
       "                                                 ('binary', 'passthrough',\n",
       "                                                  ['lux_category'])])),\n",
       "                ('model',\n",
       "                 StackingRegressor(estimators=[('rf',\n",
       "                                                RandomForestRegressor(random_state=42)),\n",
       "                                               ('mlp',\n",
       "                                                MLPRegressor(hidden_layer_sizes=(100,\n",
       "                                                                                 50),\n",
       "                                                             max_iter=1000,\n",
       "                                                             random_state=42))],\n",
       "                                   final_estimator=MLPRegressor()))])"
      ]
     },
     "execution_count": 52,
     "metadata": {},
     "output_type": "execute_result"
    }
   ],
   "source": [
    "stacking_pipeline.fit(X_train, y_train)"
   ]
  },
  {
   "cell_type": "markdown",
   "id": "2fa860a2",
   "metadata": {},
   "source": [
    "#### Storing in Pickle Files"
   ]
  },
  {
   "cell_type": "code",
   "execution_count": 53,
   "id": "9c15cd81",
   "metadata": {},
   "outputs": [],
   "source": [
    "with open('rf_pipeline.pkl', 'wb') as file:\n",
    "    pickle.dump(rf_pipeline, file)\n",
    "with open('mlp_pipeline.pkl', 'wb') as file:\n",
    "    pickle.dump(mlp_pipeline, file)\n",
    "with open('voting_pipeline.pkl', 'wb') as file:\n",
    "    pickle.dump(voting_pipeline, file)\n",
    "with open('stacking_pipeline.pkl', 'wb') as file:\n",
    "    pickle.dump(stacking_pipeline, file)"
   ]
  },
  {
   "cell_type": "code",
   "execution_count": 54,
   "id": "cb4e31da",
   "metadata": {},
   "outputs": [],
   "source": [
    "# with open('mlp_pipeline.pkl', 'rb') as file:\n",
    "#     loaded_pipeline = pickle.load(file)\n",
    "\n",
    "# # Use the loaded pipeline for predictions\n",
    "# y_pred_rf = loaded_pipeline.predict(X_test)"
   ]
  },
  {
   "cell_type": "markdown",
   "id": "3e0252b0",
   "metadata": {},
   "source": [
    "### G) Model Prediction"
   ]
  },
  {
   "cell_type": "code",
   "execution_count": 55,
   "id": "9b11f940",
   "metadata": {},
   "outputs": [
    {
     "name": "stdout",
     "output_type": "stream",
     "text": [
      "Prediction using Random Forest Regressor\n",
      "Root Mean Squared Error: 4183.586446221756\n",
      "R-squared (R2): 0.8133946338015013\n"
     ]
    }
   ],
   "source": [
    "# Make predictions on the test data\n",
    "y_pred_rf = rf_pipeline.predict(X_test)\n",
    "\n",
    "# Calculate the model's performance metrics\n",
    "rmse = np.sqrt(mean_squared_error(y_test, y_pred_rf))\n",
    "r2 = r2_score(y_test, y_pred_rf)\n",
    "\n",
    "print(f\"Prediction using Random Forest Regressor\")\n",
    "print(f\"Root Mean Squared Error: {rmse}\")\n",
    "print(f\"R-squared (R2): {r2}\")"
   ]
  },
  {
   "cell_type": "code",
   "execution_count": 56,
   "id": "3dd86d52",
   "metadata": {},
   "outputs": [
    {
     "name": "stdout",
     "output_type": "stream",
     "text": [
      "Prediction using MLP Regressor\n",
      "Root Mean Squared Error: 4098.1316545684695\n",
      "R-squared (R2): 0.8209400551617841\n"
     ]
    }
   ],
   "source": [
    "# Make predictions on the test data\n",
    "y_pred_mlp = mlp_pipeline.predict(X_test)\n",
    "\n",
    "# Calculate the model's performance metrics\n",
    "rmse = np.sqrt(mean_squared_error(y_test, y_pred_mlp))\n",
    "r2 = r2_score(y_test, y_pred_mlp)\n",
    "\n",
    "print(f\"Prediction using MLP Regressor\")\n",
    "print(f\"Root Mean Squared Error: {rmse}\")\n",
    "print(f\"R-squared (R2): {r2}\")"
   ]
  },
  {
   "cell_type": "code",
   "execution_count": 57,
   "id": "efdf1028",
   "metadata": {},
   "outputs": [
    {
     "name": "stdout",
     "output_type": "stream",
     "text": [
      "Prediction using Gradient Boosting Regressor\n",
      "Root Mean Squared Error: 4737.358808056344\n",
      "R-squared (R2): 0.7607239708264534\n"
     ]
    }
   ],
   "source": [
    "# Make predictions on the test data\n",
    "y_pred_gb = gb_pipeline.predict(X_test)\n",
    "\n",
    "# Calculate the model's performance metrics\n",
    "rmse = np.sqrt(mean_squared_error(y_test, y_pred_gb))\n",
    "r2 = r2_score(y_test, y_pred_gb)\n",
    "\n",
    "print(f\"Prediction using Gradient Boosting Regressor\")\n",
    "print(f\"Root Mean Squared Error: {rmse}\")\n",
    "print(f\"R-squared (R2): {r2}\")"
   ]
  },
  {
   "cell_type": "code",
   "execution_count": 58,
   "id": "9127b993",
   "metadata": {},
   "outputs": [
    {
     "name": "stdout",
     "output_type": "stream",
     "text": [
      "Root Mean Squared Error: 3818.0282512009135\n",
      "R-squared (R2): 0.8445807141249889\n"
     ]
    }
   ],
   "source": [
    "y_pred = (y_pred_rf + y_pred_mlp)/2\n",
    "\n",
    "rmse = np.sqrt(mean_squared_error(y_test, y_pred))\n",
    "r2 = r2_score(y_test, y_pred)\n",
    "\n",
    "print(f\"Root Mean Squared Error: {rmse}\")\n",
    "print(f\"R-squared (R2): {r2}\")"
   ]
  },
  {
   "cell_type": "code",
   "execution_count": 59,
   "id": "f921db8b",
   "metadata": {},
   "outputs": [
    {
     "name": "stdout",
     "output_type": "stream",
     "text": [
      "Prediction using Voting Regressor\n",
      "Root Mean Squared Error: 3818.0282512009135\n",
      "R-squared (R2): 0.8445807141249889\n"
     ]
    }
   ],
   "source": [
    "# Make predictions on the test data\n",
    "y_pred_voting = voting_pipeline.predict(X_test)\n",
    "\n",
    "# Calculate the model's performance metrics\n",
    "rmse = np.sqrt(mean_squared_error(y_test, y_pred_voting))\n",
    "r2 = r2_score(y_test, y_pred_voting)\n",
    "\n",
    "print(f\"Prediction using Voting Regressor\")\n",
    "print(f\"Root Mean Squared Error: {rmse}\")\n",
    "print(f\"R-squared (R2): {r2}\")"
   ]
  },
  {
   "cell_type": "code",
   "execution_count": 60,
   "id": "625cdcfa",
   "metadata": {},
   "outputs": [
    {
     "name": "stdout",
     "output_type": "stream",
     "text": [
      "Prediction using Stacking Regressor\n",
      "Root Mean Squared Error: 3811.543602443319\n",
      "R-squared (R2): 0.8451082029443768\n"
     ]
    }
   ],
   "source": [
    "# Make predictions on the test data\n",
    "y_pred_stacking = stacking_pipeline.predict(X_test)\n",
    "\n",
    "# Calculate the model's performance metrics\n",
    "rmse = np.sqrt(mean_squared_error(y_test, y_pred_stacking))\n",
    "r2 = r2_score(y_test, y_pred_stacking)\n",
    "\n",
    "print(f\"Prediction using Stacking Regressor\")\n",
    "print(f\"Root Mean Squared Error: {rmse}\")\n",
    "print(f\"R-squared (R2): {r2}\")"
   ]
  },
  {
   "cell_type": "code",
   "execution_count": 61,
   "id": "e9f3a96f",
   "metadata": {},
   "outputs": [
    {
     "data": {
      "text/html": [
       "<div>\n",
       "<style scoped>\n",
       "    .dataframe tbody tr th:only-of-type {\n",
       "        vertical-align: middle;\n",
       "    }\n",
       "\n",
       "    .dataframe tbody tr th {\n",
       "        vertical-align: top;\n",
       "    }\n",
       "\n",
       "    .dataframe thead th {\n",
       "        text-align: right;\n",
       "    }\n",
       "</style>\n",
       "<table border=\"1\" class=\"dataframe\">\n",
       "  <thead>\n",
       "    <tr style=\"text-align: right;\">\n",
       "      <th></th>\n",
       "      <th>Features</th>\n",
       "      <th>Importance</th>\n",
       "    </tr>\n",
       "  </thead>\n",
       "  <tbody>\n",
       "    <tr>\n",
       "      <th>1</th>\n",
       "      <td>make</td>\n",
       "      <td>27.74</td>\n",
       "    </tr>\n",
       "    <tr>\n",
       "      <th>0</th>\n",
       "      <td>type</td>\n",
       "      <td>18.80</td>\n",
       "    </tr>\n",
       "    <tr>\n",
       "      <th>6</th>\n",
       "      <td>engine</td>\n",
       "      <td>0.66</td>\n",
       "    </tr>\n",
       "    <tr>\n",
       "      <th>8</th>\n",
       "      <td>drive_type</td>\n",
       "      <td>0.56</td>\n",
       "    </tr>\n",
       "    <tr>\n",
       "      <th>7</th>\n",
       "      <td>transmission</td>\n",
       "      <td>0.21</td>\n",
       "    </tr>\n",
       "    <tr>\n",
       "      <th>2</th>\n",
       "      <td>year</td>\n",
       "      <td>0.20</td>\n",
       "    </tr>\n",
       "    <tr>\n",
       "      <th>5</th>\n",
       "      <td>doors</td>\n",
       "      <td>0.20</td>\n",
       "    </tr>\n",
       "    <tr>\n",
       "      <th>3</th>\n",
       "      <td>model</td>\n",
       "      <td>0.18</td>\n",
       "    </tr>\n",
       "    <tr>\n",
       "      <th>4</th>\n",
       "      <td>miles_driven</td>\n",
       "      <td>0.18</td>\n",
       "    </tr>\n",
       "    <tr>\n",
       "      <th>10</th>\n",
       "      <td>avg_mpg</td>\n",
       "      <td>0.11</td>\n",
       "    </tr>\n",
       "    <tr>\n",
       "      <th>9</th>\n",
       "      <td>fuel</td>\n",
       "      <td>0.07</td>\n",
       "    </tr>\n",
       "    <tr>\n",
       "      <th>11</th>\n",
       "      <td>lux_category</td>\n",
       "      <td>0.02</td>\n",
       "    </tr>\n",
       "  </tbody>\n",
       "</table>\n",
       "</div>"
      ],
      "text/plain": [
       "        Features  Importance\n",
       "1           make       27.74\n",
       "0           type       18.80\n",
       "6         engine        0.66\n",
       "8     drive_type        0.56\n",
       "7   transmission        0.21\n",
       "2           year        0.20\n",
       "5          doors        0.20\n",
       "3          model        0.18\n",
       "4   miles_driven        0.18\n",
       "10       avg_mpg        0.11\n",
       "9           fuel        0.07\n",
       "11  lux_category        0.02"
      ]
     },
     "execution_count": 61,
     "metadata": {},
     "output_type": "execute_result"
    }
   ],
   "source": [
    "# Get feature importances\n",
    "name = []\n",
    "imp = []\n",
    "\n",
    "for n,i in zip(X,rf_model.feature_importances_):\n",
    "    name.append(n)\n",
    "    imp.append(round(i*100,2))\n",
    "\n",
    "features = pd.DataFrame({'Features':name ,'Importance':imp})\n",
    "features.sort_values(by='Importance',ascending=False).head(15)"
   ]
  },
  {
   "cell_type": "code",
   "execution_count": 62,
   "id": "a1e67272",
   "metadata": {},
   "outputs": [],
   "source": [
    "# Combine X_test, y_test, and y_pred into a single DataFrame\n",
    "results_df = pd.DataFrame({\n",
    "    'Actual': y_test,\n",
    "    'Predicted': y_pred_voting\n",
    "})\n",
    "\n",
    "# Print the results_df\n",
    "results_df.to_csv('output.csv')"
   ]
  },
  {
   "cell_type": "code",
   "execution_count": 63,
   "id": "77b9d7ae",
   "metadata": {},
   "outputs": [],
   "source": [
    "# def rmse(y_test, y_pred):\n",
    "#     mse = mean_squared_error(y_test, y_pred)\n",
    "#     return np.sqrt(mse)"
   ]
  },
  {
   "cell_type": "code",
   "execution_count": 64,
   "id": "58ef311c",
   "metadata": {},
   "outputs": [],
   "source": [
    "# rmse_scorer = make_scorer(rmse, greater_is_better=False)"
   ]
  },
  {
   "cell_type": "code",
   "execution_count": 65,
   "id": "361cbb7b",
   "metadata": {},
   "outputs": [],
   "source": [
    "# rf_param_dist = {\n",
    "#     'model__n_estimators': [50, 100, 150, 200],\n",
    "#     'model__max_features': ['sqrt', 'log2', None],\n",
    "#     'model__max_depth': [10, 20, 30, 40, 50, None],\n",
    "#     'model__min_samples_split': [2, 5, 10],\n",
    "#     'model__min_samples_leaf': [1, 2, 4],\n",
    "# }"
   ]
  },
  {
   "cell_type": "code",
   "execution_count": 66,
   "id": "84d76c6f",
   "metadata": {},
   "outputs": [],
   "source": [
    "# rf_random_search = RandomizedSearchCV(rf_pipeline, param_distributions=rf_param_dist, n_iter=100,\n",
    "#                                    scoring=rmse_scorer, n_jobs=-1, \n",
    "#                                    cv=3, random_state=100)\n",
    "# rf_random_search.fit(X_train, y_train)"
   ]
  },
  {
   "cell_type": "code",
   "execution_count": 67,
   "id": "cfbd8387",
   "metadata": {},
   "outputs": [],
   "source": [
    "# # Make predictions on the test data\n",
    "# y_pred = rf_random_search.predict(X_test)\n",
    "\n",
    "# # Calculate the model's performance metrics\n",
    "# rmse = np.sqrt(mean_squared_error(y_test, y_pred))\n",
    "# r2 = r2_score(y_test, y_pred)\n",
    "\n",
    "# print(f\"Root Mean Squared Error: {rmse}\")\n",
    "# print(f\"R-squared (R2): {r2}\")"
   ]
  },
  {
   "cell_type": "code",
   "execution_count": 68,
   "id": "fbac9fa8",
   "metadata": {},
   "outputs": [],
   "source": [
    "num_features = ['mileage_miles', 'city_mpg', 'hwy_mpg']\n",
    "cat_features_label = ['type', 'make', 'model', 'transmission', 'drive_type', 'fuel', 'engine']\n",
    "cat_features_ordinal = ['year', 'doors']\n",
    "bin_features = ['android_auto', 'apple_carplay', 'backup_camera_assist', 'bluetooth', 'heated_seats',\n",
    "                'hill_assist_system', 'keyless_entry', 'keyless_ignition', 'multimedia_telematics', 'premium_sound_system',\n",
    "                'satellite_radio', 'sunroof_moonroof', 'leather_seats', 'power_seats', 'traction_control',\n",
    "                'driver_assistance_confidence_pkg', 'head-up_display', 'lane_departure_warning', 'navigation_system',\n",
    "                'remote_start', 'blind_spot_monitor', 'lane_assist', 'parking_assist_system', 'stability_control', \n",
    "                'adaptive_cruise_control', 'alloy_wheels', 'cooled_seats', 'full_self-driving_capability',\n",
    "                'third_row_seating', 'tow_hitch_package', 'rear_seat_entertainment']\n",
    "\n",
    "# Preprocessing Pipeline\n",
    "preprocessor = ColumnTransformer(\n",
    "    transformers=[\n",
    "        ('num', StandardScaler(), num_features),\n",
    "        ('cat_label', OneHotEncoder(sparse=False, handle_unknown='ignore'), cat_features_label),\n",
    "        ('cat_ordinal', OrdinalEncoder(), cat_features_ordinal),\n",
    "        ('binary', 'passthrough', bin_features)])"
   ]
  },
  {
   "cell_type": "markdown",
   "id": "179d9810",
   "metadata": {},
   "source": [
    "Root Mean Squared Error: 3545.000065033697\n",
    "R-squared (R2): 0.8660140904089552"
   ]
  }
 ],
 "metadata": {
  "kernelspec": {
   "display_name": "Python 3",
   "language": "python",
   "name": "python3"
  },
  "language_info": {
   "codemirror_mode": {
    "name": "ipython",
    "version": 3
   },
   "file_extension": ".py",
   "mimetype": "text/x-python",
   "name": "python",
   "nbconvert_exporter": "python",
   "pygments_lexer": "ipython3",
   "version": "3.11.5"
  }
 },
 "nbformat": 4,
 "nbformat_minor": 5
}
